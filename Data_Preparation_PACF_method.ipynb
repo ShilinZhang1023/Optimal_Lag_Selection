{
 "cells": [
  {
   "cell_type": "code",
   "execution_count": 1,
   "id": "4dbf6672",
   "metadata": {},
   "outputs": [],
   "source": [
    "# Experiment Preparation\n",
    "\n",
    "# Method: PACF\n",
    "\n",
    "# Import libraries\n",
    "\n",
    "import pandas as pd\n",
    "import numpy as np\n",
    "import matplotlib.pyplot as plt\n",
    "import yfinance as yf\n",
    "\n",
    "\n",
    "from statsmodels.graphics.tsaplots import plot_acf, plot_pacf\n",
    "from statsmodels.tsa.arima.model import ARIMA\n",
    "from statsmodels.tsa.stattools import adfuller"
   ]
  },
  {
   "cell_type": "code",
   "execution_count": 2,
   "id": "6762cd37",
   "metadata": {},
   "outputs": [
    {
     "name": "stdout",
     "output_type": "stream",
     "text": [
      "[*********************100%***********************]  1 of 1 completed\n"
     ]
    }
   ],
   "source": [
    "startdate_training = '2012-04-01'\n",
    "enddate_training = '2020-05-01'\n",
    "\n",
    "datasource = 'SPY'\n",
    "data = yf.download(datasource,start = startdate_training,end = enddate_training)"
   ]
  },
  {
   "cell_type": "code",
   "execution_count": 3,
   "id": "3d6ed154",
   "metadata": {},
   "outputs": [
    {
     "data": {
      "text/html": [
       "<div>\n",
       "<style scoped>\n",
       "    .dataframe tbody tr th:only-of-type {\n",
       "        vertical-align: middle;\n",
       "    }\n",
       "\n",
       "    .dataframe tbody tr th {\n",
       "        vertical-align: top;\n",
       "    }\n",
       "\n",
       "    .dataframe thead th {\n",
       "        text-align: right;\n",
       "    }\n",
       "</style>\n",
       "<table border=\"1\" class=\"dataframe\">\n",
       "  <thead>\n",
       "    <tr style=\"text-align: right;\">\n",
       "      <th></th>\n",
       "      <th>Open</th>\n",
       "      <th>High</th>\n",
       "      <th>Low</th>\n",
       "      <th>Close</th>\n",
       "      <th>Adj Close</th>\n",
       "      <th>Volume</th>\n",
       "    </tr>\n",
       "    <tr>\n",
       "      <th>Date</th>\n",
       "      <th></th>\n",
       "      <th></th>\n",
       "      <th></th>\n",
       "      <th></th>\n",
       "      <th></th>\n",
       "      <th></th>\n",
       "    </tr>\n",
       "  </thead>\n",
       "  <tbody>\n",
       "    <tr>\n",
       "      <th>2012-04-02</th>\n",
       "      <td>140.639999</td>\n",
       "      <td>142.210007</td>\n",
       "      <td>140.360001</td>\n",
       "      <td>141.839996</td>\n",
       "      <td>116.761978</td>\n",
       "      <td>151741100</td>\n",
       "    </tr>\n",
       "    <tr>\n",
       "      <th>2012-04-03</th>\n",
       "      <td>141.639999</td>\n",
       "      <td>141.880005</td>\n",
       "      <td>140.429993</td>\n",
       "      <td>141.259995</td>\n",
       "      <td>116.284523</td>\n",
       "      <td>155806700</td>\n",
       "    </tr>\n",
       "    <tr>\n",
       "      <th>2012-04-04</th>\n",
       "      <td>140.220001</td>\n",
       "      <td>140.339996</td>\n",
       "      <td>139.339996</td>\n",
       "      <td>139.860001</td>\n",
       "      <td>115.132118</td>\n",
       "      <td>146896000</td>\n",
       "    </tr>\n",
       "    <tr>\n",
       "      <th>2012-04-05</th>\n",
       "      <td>139.380005</td>\n",
       "      <td>140.199997</td>\n",
       "      <td>139.259995</td>\n",
       "      <td>139.789993</td>\n",
       "      <td>115.074440</td>\n",
       "      <td>137439400</td>\n",
       "    </tr>\n",
       "    <tr>\n",
       "      <th>2012-04-09</th>\n",
       "      <td>138.029999</td>\n",
       "      <td>139.839996</td>\n",
       "      <td>137.839996</td>\n",
       "      <td>138.220001</td>\n",
       "      <td>113.782043</td>\n",
       "      <td>127555900</td>\n",
       "    </tr>\n",
       "    <tr>\n",
       "      <th>...</th>\n",
       "      <td>...</td>\n",
       "      <td>...</td>\n",
       "      <td>...</td>\n",
       "      <td>...</td>\n",
       "      <td>...</td>\n",
       "      <td>...</td>\n",
       "    </tr>\n",
       "    <tr>\n",
       "      <th>2020-04-24</th>\n",
       "      <td>280.730011</td>\n",
       "      <td>283.700012</td>\n",
       "      <td>278.500000</td>\n",
       "      <td>282.970001</td>\n",
       "      <td>273.704102</td>\n",
       "      <td>85063200</td>\n",
       "    </tr>\n",
       "    <tr>\n",
       "      <th>2020-04-27</th>\n",
       "      <td>285.119995</td>\n",
       "      <td>288.269989</td>\n",
       "      <td>284.619995</td>\n",
       "      <td>287.049988</td>\n",
       "      <td>277.650421</td>\n",
       "      <td>77896600</td>\n",
       "    </tr>\n",
       "    <tr>\n",
       "      <th>2020-04-28</th>\n",
       "      <td>291.019989</td>\n",
       "      <td>291.399994</td>\n",
       "      <td>285.399994</td>\n",
       "      <td>285.730011</td>\n",
       "      <td>276.373718</td>\n",
       "      <td>105270000</td>\n",
       "    </tr>\n",
       "    <tr>\n",
       "      <th>2020-04-29</th>\n",
       "      <td>291.529999</td>\n",
       "      <td>294.880005</td>\n",
       "      <td>290.410004</td>\n",
       "      <td>293.209991</td>\n",
       "      <td>283.608704</td>\n",
       "      <td>118745600</td>\n",
       "    </tr>\n",
       "    <tr>\n",
       "      <th>2020-04-30</th>\n",
       "      <td>291.709991</td>\n",
       "      <td>293.320007</td>\n",
       "      <td>288.589996</td>\n",
       "      <td>290.480011</td>\n",
       "      <td>280.968109</td>\n",
       "      <td>122901700</td>\n",
       "    </tr>\n",
       "  </tbody>\n",
       "</table>\n",
       "<p>2033 rows × 6 columns</p>\n",
       "</div>"
      ],
      "text/plain": [
       "                  Open        High         Low       Close   Adj Close  \\\n",
       "Date                                                                     \n",
       "2012-04-02  140.639999  142.210007  140.360001  141.839996  116.761978   \n",
       "2012-04-03  141.639999  141.880005  140.429993  141.259995  116.284523   \n",
       "2012-04-04  140.220001  140.339996  139.339996  139.860001  115.132118   \n",
       "2012-04-05  139.380005  140.199997  139.259995  139.789993  115.074440   \n",
       "2012-04-09  138.029999  139.839996  137.839996  138.220001  113.782043   \n",
       "...                ...         ...         ...         ...         ...   \n",
       "2020-04-24  280.730011  283.700012  278.500000  282.970001  273.704102   \n",
       "2020-04-27  285.119995  288.269989  284.619995  287.049988  277.650421   \n",
       "2020-04-28  291.019989  291.399994  285.399994  285.730011  276.373718   \n",
       "2020-04-29  291.529999  294.880005  290.410004  293.209991  283.608704   \n",
       "2020-04-30  291.709991  293.320007  288.589996  290.480011  280.968109   \n",
       "\n",
       "               Volume  \n",
       "Date                   \n",
       "2012-04-02  151741100  \n",
       "2012-04-03  155806700  \n",
       "2012-04-04  146896000  \n",
       "2012-04-05  137439400  \n",
       "2012-04-09  127555900  \n",
       "...               ...  \n",
       "2020-04-24   85063200  \n",
       "2020-04-27   77896600  \n",
       "2020-04-28  105270000  \n",
       "2020-04-29  118745600  \n",
       "2020-04-30  122901700  \n",
       "\n",
       "[2033 rows x 6 columns]"
      ]
     },
     "execution_count": 3,
     "metadata": {},
     "output_type": "execute_result"
    }
   ],
   "source": [
    "data"
   ]
  },
  {
   "cell_type": "code",
   "execution_count": 4,
   "id": "34aa5ff7",
   "metadata": {},
   "outputs": [],
   "source": [
    "# The function shift other column except Close\n",
    "\n",
    "def data_shift(data,target):\n",
    "    data_shifted = data.drop([target],axis=1).shift()\n",
    "    data_preprocessed = pd.concat([data_shifted,data[target]], axis=1)\n",
    "    data_preprocessed.dropna(inplace=True)\n",
    "    return data_preprocessed"
   ]
  },
  {
   "cell_type": "code",
   "execution_count": 5,
   "id": "62502556",
   "metadata": {},
   "outputs": [
    {
     "data": {
      "text/html": [
       "<div>\n",
       "<style scoped>\n",
       "    .dataframe tbody tr th:only-of-type {\n",
       "        vertical-align: middle;\n",
       "    }\n",
       "\n",
       "    .dataframe tbody tr th {\n",
       "        vertical-align: top;\n",
       "    }\n",
       "\n",
       "    .dataframe thead th {\n",
       "        text-align: right;\n",
       "    }\n",
       "</style>\n",
       "<table border=\"1\" class=\"dataframe\">\n",
       "  <thead>\n",
       "    <tr style=\"text-align: right;\">\n",
       "      <th></th>\n",
       "      <th>Open</th>\n",
       "      <th>High</th>\n",
       "      <th>Low</th>\n",
       "      <th>Adj Close</th>\n",
       "      <th>Volume</th>\n",
       "      <th>Close</th>\n",
       "    </tr>\n",
       "    <tr>\n",
       "      <th>Date</th>\n",
       "      <th></th>\n",
       "      <th></th>\n",
       "      <th></th>\n",
       "      <th></th>\n",
       "      <th></th>\n",
       "      <th></th>\n",
       "    </tr>\n",
       "  </thead>\n",
       "  <tbody>\n",
       "    <tr>\n",
       "      <th>2012-04-03</th>\n",
       "      <td>140.639999</td>\n",
       "      <td>142.210007</td>\n",
       "      <td>140.360001</td>\n",
       "      <td>116.761978</td>\n",
       "      <td>151741100.0</td>\n",
       "      <td>141.259995</td>\n",
       "    </tr>\n",
       "    <tr>\n",
       "      <th>2012-04-04</th>\n",
       "      <td>141.639999</td>\n",
       "      <td>141.880005</td>\n",
       "      <td>140.429993</td>\n",
       "      <td>116.284523</td>\n",
       "      <td>155806700.0</td>\n",
       "      <td>139.860001</td>\n",
       "    </tr>\n",
       "    <tr>\n",
       "      <th>2012-04-05</th>\n",
       "      <td>140.220001</td>\n",
       "      <td>140.339996</td>\n",
       "      <td>139.339996</td>\n",
       "      <td>115.132118</td>\n",
       "      <td>146896000.0</td>\n",
       "      <td>139.789993</td>\n",
       "    </tr>\n",
       "    <tr>\n",
       "      <th>2012-04-09</th>\n",
       "      <td>139.380005</td>\n",
       "      <td>140.199997</td>\n",
       "      <td>139.259995</td>\n",
       "      <td>115.074440</td>\n",
       "      <td>137439400.0</td>\n",
       "      <td>138.220001</td>\n",
       "    </tr>\n",
       "    <tr>\n",
       "      <th>2012-04-10</th>\n",
       "      <td>138.029999</td>\n",
       "      <td>139.839996</td>\n",
       "      <td>137.839996</td>\n",
       "      <td>113.782043</td>\n",
       "      <td>127555900.0</td>\n",
       "      <td>135.899994</td>\n",
       "    </tr>\n",
       "    <tr>\n",
       "      <th>...</th>\n",
       "      <td>...</td>\n",
       "      <td>...</td>\n",
       "      <td>...</td>\n",
       "      <td>...</td>\n",
       "      <td>...</td>\n",
       "      <td>...</td>\n",
       "    </tr>\n",
       "    <tr>\n",
       "      <th>2020-04-24</th>\n",
       "      <td>280.489990</td>\n",
       "      <td>283.940002</td>\n",
       "      <td>278.750000</td>\n",
       "      <td>269.941406</td>\n",
       "      <td>104709700.0</td>\n",
       "      <td>282.970001</td>\n",
       "    </tr>\n",
       "    <tr>\n",
       "      <th>2020-04-27</th>\n",
       "      <td>280.730011</td>\n",
       "      <td>283.700012</td>\n",
       "      <td>278.500000</td>\n",
       "      <td>273.704102</td>\n",
       "      <td>85063200.0</td>\n",
       "      <td>287.049988</td>\n",
       "    </tr>\n",
       "    <tr>\n",
       "      <th>2020-04-28</th>\n",
       "      <td>285.119995</td>\n",
       "      <td>288.269989</td>\n",
       "      <td>284.619995</td>\n",
       "      <td>277.650421</td>\n",
       "      <td>77896600.0</td>\n",
       "      <td>285.730011</td>\n",
       "    </tr>\n",
       "    <tr>\n",
       "      <th>2020-04-29</th>\n",
       "      <td>291.019989</td>\n",
       "      <td>291.399994</td>\n",
       "      <td>285.399994</td>\n",
       "      <td>276.373718</td>\n",
       "      <td>105270000.0</td>\n",
       "      <td>293.209991</td>\n",
       "    </tr>\n",
       "    <tr>\n",
       "      <th>2020-04-30</th>\n",
       "      <td>291.529999</td>\n",
       "      <td>294.880005</td>\n",
       "      <td>290.410004</td>\n",
       "      <td>283.608704</td>\n",
       "      <td>118745600.0</td>\n",
       "      <td>290.480011</td>\n",
       "    </tr>\n",
       "  </tbody>\n",
       "</table>\n",
       "<p>2032 rows × 6 columns</p>\n",
       "</div>"
      ],
      "text/plain": [
       "                  Open        High         Low   Adj Close       Volume  \\\n",
       "Date                                                                      \n",
       "2012-04-03  140.639999  142.210007  140.360001  116.761978  151741100.0   \n",
       "2012-04-04  141.639999  141.880005  140.429993  116.284523  155806700.0   \n",
       "2012-04-05  140.220001  140.339996  139.339996  115.132118  146896000.0   \n",
       "2012-04-09  139.380005  140.199997  139.259995  115.074440  137439400.0   \n",
       "2012-04-10  138.029999  139.839996  137.839996  113.782043  127555900.0   \n",
       "...                ...         ...         ...         ...          ...   \n",
       "2020-04-24  280.489990  283.940002  278.750000  269.941406  104709700.0   \n",
       "2020-04-27  280.730011  283.700012  278.500000  273.704102   85063200.0   \n",
       "2020-04-28  285.119995  288.269989  284.619995  277.650421   77896600.0   \n",
       "2020-04-29  291.019989  291.399994  285.399994  276.373718  105270000.0   \n",
       "2020-04-30  291.529999  294.880005  290.410004  283.608704  118745600.0   \n",
       "\n",
       "                 Close  \n",
       "Date                    \n",
       "2012-04-03  141.259995  \n",
       "2012-04-04  139.860001  \n",
       "2012-04-05  139.789993  \n",
       "2012-04-09  138.220001  \n",
       "2012-04-10  135.899994  \n",
       "...                ...  \n",
       "2020-04-24  282.970001  \n",
       "2020-04-27  287.049988  \n",
       "2020-04-28  285.730011  \n",
       "2020-04-29  293.209991  \n",
       "2020-04-30  290.480011  \n",
       "\n",
       "[2032 rows x 6 columns]"
      ]
     },
     "execution_count": 5,
     "metadata": {},
     "output_type": "execute_result"
    }
   ],
   "source": [
    "data_preprocessed = data_shift(data,'Close')\n",
    "data_preprocessed"
   ]
  },
  {
   "cell_type": "code",
   "execution_count": 6,
   "id": "1af22e0f",
   "metadata": {},
   "outputs": [],
   "source": [
    "def perform_adf_test(series):\n",
    "    result = adfuller(series)\n",
    "    print('ADF Statistic: %f' % result[0])\n",
    "    print('p-value: %f' % result[1])"
   ]
  },
  {
   "cell_type": "code",
   "execution_count": 7,
   "id": "1ddd9d26",
   "metadata": {},
   "outputs": [],
   "source": [
    "# Original series\n",
    "\n",
    "series_open_ = data_preprocessed.loc[:, [\"Open\"]]\n",
    "series_high_ = data_preprocessed.loc[:, [\"High\"]]\n",
    "series_low_ = data_preprocessed.loc[:, [\"Low\"]]\n",
    "series_adj_ = data_preprocessed.loc[:, [\"Adj Close\"]]\n",
    "series_volume_ = data_preprocessed.loc[:, [\"Volume\"]]\n",
    "series_close_ = data_preprocessed.loc[:, [\"Close\"]]"
   ]
  },
  {
   "cell_type": "code",
   "execution_count": 8,
   "id": "3648f1f6",
   "metadata": {},
   "outputs": [
    {
     "name": "stdout",
     "output_type": "stream",
     "text": [
      "ADF Statistic: -10.630085\n",
      "p-value: 0.000000\n",
      "ADF Statistic: -9.660867\n",
      "p-value: 0.000000\n",
      "ADF Statistic: -10.412449\n",
      "p-value: 0.000000\n",
      "ADF Statistic: -9.177698\n",
      "p-value: 0.000000\n",
      "ADF Statistic: -7.153981\n",
      "p-value: 0.000000\n",
      "ADF Statistic: -9.389032\n",
      "p-value: 0.000000\n"
     ]
    }
   ],
   "source": [
    "# Transfer each column to series\n",
    "\n",
    "series_open = data_preprocessed.loc[:, [\"Open\"]].diff().dropna()\n",
    "series_high = data_preprocessed.loc[:, [\"High\"]].diff().dropna()\n",
    "series_low = data_preprocessed.loc[:, [\"Low\"]].diff().dropna()\n",
    "series_adj = data_preprocessed.loc[:, [\"Adj Close\"]].diff().dropna()\n",
    "series_volume = data_preprocessed.loc[:, [\"Volume\"]]\n",
    "series_close = data_preprocessed.loc[:, [\"Close\"]].diff().dropna()\n",
    "\n",
    "# Calculate the ADF for each columns\n",
    "\n",
    "perform_adf_test(series_open)\n",
    "perform_adf_test(series_high)\n",
    "perform_adf_test(series_low)\n",
    "perform_adf_test(series_adj)\n",
    "perform_adf_test(series_volume)\n",
    "perform_adf_test(series_close)"
   ]
  },
  {
   "cell_type": "code",
   "execution_count": 9,
   "id": "f4f65c94",
   "metadata": {},
   "outputs": [],
   "source": [
    "\n",
    "series_list = []\n",
    "series_list.append(series_open)\n",
    "series_list.append(series_high)\n",
    "series_list.append(series_low)\n",
    "series_list.append(series_adj)\n",
    "series_list.append(series_volume)\n",
    "series_list.append(series_close)\n"
   ]
  },
  {
   "cell_type": "code",
   "execution_count": 10,
   "id": "9d9dcdce",
   "metadata": {
    "scrolled": true
   },
   "outputs": [
    {
     "data": {
      "image/png": "[encoded data removed]",
      "text/plain": [
       "<Figure size 432x288 with 1 Axes>"
      ]
     },
     "metadata": {
      "needs_background": "light"
     },
     "output_type": "display_data"
    },
    {
     "data": {
      "image/png": "[encoded data removed]",
      "text/plain": [
       "<Figure size 432x288 with 1 Axes>"
      ]
     },
     "metadata": {
      "needs_background": "light"
     },
     "output_type": "display_data"
    },
    {
     "data": {
      "image/png": "[encoded data removed]",
      "text/plain": [
       "<Figure size 432x288 with 1 Axes>"
      ]
     },
     "metadata": {
      "needs_background": "light"
     },
     "output_type": "display_data"
    },
    {
     "data": {
      "image/png": "[encoded data removed]",
      "text/plain": [
       "<Figure size 432x288 with 1 Axes>"
      ]
     },
     "metadata": {
      "needs_background": "light"
     },
     "output_type": "display_data"
    },
    {
     "data": {
      "image/png": "[encoded data removed]",
      "text/plain": [
       "<Figure size 432x288 with 1 Axes>"
      ]
     },
     "metadata": {
      "needs_background": "light"
     },
     "output_type": "display_data"
    },
    {
     "data": {
      "image/png": "[encoded data removed]",
      "text/plain": [
       "<Figure size 432x288 with 1 Axes>"
      ]
     },
     "metadata": {
      "needs_background": "light"
     },
     "output_type": "display_data"
    }
   ],
   "source": [
    "for series in series_list:\n",
    "    plot_acf(series)\n",
    "    plt.title('ACF of ' + series.columns[0])\n",
    "    plt.show()"
   ]
  },
  {
   "cell_type": "code",
   "execution_count": 11,
   "id": "a40795d2",
   "metadata": {
    "scrolled": true
   },
   "outputs": [
    {
     "name": "stderr",
     "output_type": "stream",
     "text": [
      "C:\\Users\\82422\\AppData\\Roaming\\Python\\Python310\\site-packages\\statsmodels\\graphics\\tsaplots.py:348: FutureWarning: The default method 'yw' can produce PACF values outside of the [-1,1] interval. After 0.13, the default will change tounadjusted Yule-Walker ('ywm'). You can use this method now by setting method='ywm'.\n",
      "  warnings.warn(\n"
     ]
    },
    {
     "data": {
      "image/png": "[encoded data removed]",
      "text/plain": [
       "<Figure size 432x288 with 1 Axes>"
      ]
     },
     "metadata": {
      "needs_background": "light"
     },
     "output_type": "display_data"
    },
    {
     "data": {
      "image/png": "[encoded data removed]",
      "text/plain": [
       "<Figure size 432x288 with 1 Axes>"
      ]
     },
     "metadata": {
      "needs_background": "light"
     },
     "output_type": "display_data"
    },
    {
     "data": {
      "image/png": "[encoded data removed]",
      "text/plain": [
       "<Figure size 432x288 with 1 Axes>"
      ]
     },
     "metadata": {
      "needs_background": "light"
     },
     "output_type": "display_data"
    },
    {
     "data": {
      "image/png": "[encoded data removed]",
      "text/plain": [
       "<Figure size 432x288 with 1 Axes>"
      ]
     },
     "metadata": {
      "needs_background": "light"
     },
     "output_type": "display_data"
    },
    {
     "data": {
      "image/png": "[encoded data removed]",
      "text/plain": [
       "<Figure size 432x288 with 1 Axes>"
      ]
     },
     "metadata": {
      "needs_background": "light"
     },
     "output_type": "display_data"
    },
    {
     "data": {
      "image/png": "[encoded data removed]",
      "text/plain": [
       "<Figure size 432x288 with 1 Axes>"
      ]
     },
     "metadata": {
      "needs_background": "light"
     },
     "output_type": "display_data"
    }
   ],
   "source": [
    "for series in series_list:\n",
    "    plot_pacf(series)\n",
    "    plt.title('PACF of ' + series.columns[0])\n",
    "    plt.show()"
   ]
  },
  {
   "cell_type": "code",
   "execution_count": 12,
   "id": "40f6463b",
   "metadata": {},
   "outputs": [],
   "source": [
    "# Selecting lag for each column\n",
    "\n",
    "def ar_model_generator(series,ar_orders,i):\n",
    "    \n",
    "    series = series.asfreq(pd.infer_freq(series.index))\n",
    "    \n",
    "    \n",
    "    for idx, ar_order in enumerate(ar_orders):\n",
    "        #create AR(p) model\n",
    "        ar_model = ARIMA(series, order=(ar_order,i,0))\n",
    "        ar_model_fit = ar_model.fit()\n",
    "        fitted_model_dict[ar_order] = ar_model_fit\n",
    "    \n",
    "    return(fitted_model_dict)"
   ]
  },
  {
   "cell_type": "code",
   "execution_count": 13,
   "id": "46fd0d12",
   "metadata": {},
   "outputs": [],
   "source": [
    "def AIC_BIC(fitted_model_dict,ar_orders):\n",
    "    for ar_order in ar_orders:\n",
    "        print('AIC for AR(%s): %s'%(ar_order, fitted_model_dict[ar_order].aic))\n",
    "    print(' ')\n",
    "    for ar_order in ar_orders:\n",
    "        print('BIC for AR(%s): %s'%(ar_order, fitted_model_dict[ar_order].bic))"
   ]
  },
  {
   "cell_type": "code",
   "execution_count": 14,
   "id": "3c5a3605",
   "metadata": {},
   "outputs": [],
   "source": [
    "ar_orders_open = [1, 4 ,9, 14, 17, 18, 21]\n",
    "fitted_model_dict = {}\n",
    "fitted_model_dict_open = ar_model_generator(series_open_,ar_orders_open,1)"
   ]
  },
  {
   "cell_type": "code",
   "execution_count": 15,
   "id": "4b28efa2",
   "metadata": {},
   "outputs": [
    {
     "name": "stdout",
     "output_type": "stream",
     "text": [
      "AIC for AR(1): 9239.430432465153\n",
      "AIC for AR(4): 9197.807854185106\n",
      "AIC for AR(9): 9185.321923088988\n",
      "AIC for AR(14): 9128.86695257931\n",
      "AIC for AR(17): 9095.889758882457\n",
      "AIC for AR(18): 9087.39726088542\n",
      "AIC for AR(21): 9092.571727064638\n",
      " \n",
      "BIC for AR(1): 9251.408875282783\n",
      "BIC for AR(4): 9227.753961229182\n",
      "BIC for AR(9): 9245.214137177141\n",
      "BIC for AR(14): 9218.70527371154\n",
      "BIC for AR(17): 9203.695744241131\n",
      "BIC for AR(18): 9201.19246765291\n",
      "BIC for AR(21): 9224.334598058575\n"
     ]
    }
   ],
   "source": [
    "AIC_BIC(fitted_model_dict_open,ar_orders_open)"
   ]
  },
  {
   "cell_type": "code",
   "execution_count": 16,
   "id": "c1485681",
   "metadata": {},
   "outputs": [],
   "source": [
    "# For Open\n",
    "# aic: lag = 18\n",
    "# bic: lag = 18"
   ]
  },
  {
   "cell_type": "code",
   "execution_count": 17,
   "id": "b0bd0704",
   "metadata": {},
   "outputs": [],
   "source": [
    "ar_orders_high = [1, 4 ,8, 16]\n",
    "fitted_model_dict = {}\n",
    "fitted_model_dict_high = ar_model_generator(series_high_,ar_orders_high,1)"
   ]
  },
  {
   "cell_type": "code",
   "execution_count": 18,
   "id": "b8e1740d",
   "metadata": {},
   "outputs": [
    {
     "name": "stdout",
     "output_type": "stream",
     "text": [
      "AIC for AR(1): 8541.511593201822\n",
      "AIC for AR(4): 8530.009749270808\n",
      "AIC for AR(8): 8521.34625292233\n",
      "AIC for AR(16): 8436.557241512734\n",
      " \n",
      "BIC for AR(1): 8553.490036019452\n",
      "BIC for AR(4): 8559.955856314884\n",
      "BIC for AR(8): 8575.249245601668\n",
      "BIC for AR(16): 8538.374005462592\n"
     ]
    }
   ],
   "source": [
    "AIC_BIC(fitted_model_dict_high,ar_orders_high)"
   ]
  },
  {
   "cell_type": "code",
   "execution_count": 19,
   "id": "7e324a12",
   "metadata": {},
   "outputs": [],
   "source": [
    "# For High\n",
    "# aic: lag = 16\n",
    "# bic: lag = 16"
   ]
  },
  {
   "cell_type": "code",
   "execution_count": null,
   "id": "aec92371",
   "metadata": {},
   "outputs": [],
   "source": [
    "ar_orders_low = [1, 7 ,8 , 18]\n",
    "fitted_model_dict = {}\n",
    "fitted_model_dict_low = ar_model_generator(series_low_,ar_orders_low,1)"
   ]
  },
  {
   "cell_type": "code",
   "execution_count": null,
   "id": "9af7bdbb",
   "metadata": {},
   "outputs": [],
   "source": [
    "AIC_BIC(fitted_model_dict_low,ar_orders_low)"
   ]
  },
  {
   "cell_type": "code",
   "execution_count": null,
   "id": "57f72d80",
   "metadata": {},
   "outputs": [],
   "source": [
    "# For Low\n",
    "# aic: lag = 18\n",
    "# bic: lag = 18"
   ]
  },
  {
   "cell_type": "code",
   "execution_count": null,
   "id": "30c9e779",
   "metadata": {},
   "outputs": [],
   "source": [
    "ar_orders_adj = [1, 6, 7 ,8 , 9 ]\n",
    "fitted_model_dict = {}\n",
    "fitted_model_dict_adj = ar_model_generator(series_adj_,ar_orders_adj,1)"
   ]
  },
  {
   "cell_type": "code",
   "execution_count": null,
   "id": "476b0c70",
   "metadata": {},
   "outputs": [],
   "source": [
    "AIC_BIC(fitted_model_dict_adj,ar_orders_adj)"
   ]
  },
  {
   "cell_type": "code",
   "execution_count": null,
   "id": "0e4e7c11",
   "metadata": {},
   "outputs": [],
   "source": [
    "# For Adj\n",
    "# aic: lag = 9\n",
    "# bic: lag = 9"
   ]
  },
  {
   "cell_type": "code",
   "execution_count": null,
   "id": "ef20850c",
   "metadata": {},
   "outputs": [],
   "source": [
    "ar_orders_volume  = [1, 2, 3]\n",
    "fitted_model_dict = {}\n",
    "fitted_model_dict_volume = ar_model_generator(series_volume_,ar_orders_volume,0)"
   ]
  },
  {
   "cell_type": "code",
   "execution_count": null,
   "id": "5bdafab6",
   "metadata": {
    "scrolled": false
   },
   "outputs": [],
   "source": [
    "AIC_BIC(fitted_model_dict_volume,ar_orders_volume)"
   ]
  },
  {
   "cell_type": "code",
   "execution_count": null,
   "id": "4dc52187",
   "metadata": {},
   "outputs": [],
   "source": [
    "# For Volume\n",
    "# aic: lag = 3\n",
    "# bic: lag = 3"
   ]
  },
  {
   "cell_type": "code",
   "execution_count": null,
   "id": "b3baa18b",
   "metadata": {},
   "outputs": [],
   "source": [
    "ar_orders_close  = [1, 6, 7 ,8, 9]\n",
    "fitted_model_dict = {}\n",
    "fitted_model_dict_close = ar_model_generator(series_close_,ar_orders_close,1)"
   ]
  },
  {
   "cell_type": "code",
   "execution_count": null,
   "id": "8cf911ff",
   "metadata": {},
   "outputs": [],
   "source": [
    "AIC_BIC(fitted_model_dict_close,ar_orders_close)"
   ]
  },
  {
   "cell_type": "code",
   "execution_count": null,
   "id": "e15c7009",
   "metadata": {},
   "outputs": [],
   "source": [
    "# For Close\n",
    "# aic: lag = 9\n",
    "# bic: lag = 9"
   ]
  },
  {
   "cell_type": "code",
   "execution_count": null,
   "id": "965b7d3c",
   "metadata": {},
   "outputs": [],
   "source": [
    "lag_list = [18, 16, 18, 9, 3, 9]"
   ]
  },
  {
   "cell_type": "code",
   "execution_count": null,
   "id": "c2ef2416",
   "metadata": {
    "scrolled": true
   },
   "outputs": [],
   "source": [
    "# shift the dataset\n",
    "\n",
    "series_open_shift = series_open_.shift(18)\n",
    "series_high_shift = series_high_.shift(16)\n",
    "series_low_shift = series_low_.shift(18)\n",
    "series_adj_shift = series_adj_.shift(9)\n",
    "series_volume_shift = series_volume_.shift(3)\n",
    "series_close_shift = series_close_.shift(9)\n",
    "\n",
    "data_pacf = pd.concat([series_open_shift,series_high_shift,series_low_shift,series_adj_shift,series_volume_shift,series_close_shift,series_close_], axis=1)\n",
    "data_pacf = data_pacf.dropna()\n",
    "\n",
    "data_pacf"
   ]
  },
  {
   "cell_type": "code",
   "execution_count": null,
   "id": "9e0ea65f",
   "metadata": {},
   "outputs": [],
   "source": [
    "startdate_testing = '2020-05-01'\n",
    "enddate_testing = '2022-06-01'\n",
    "data_1 = yf.download(datasource,start = startdate_testing,end = enddate_testing)"
   ]
  },
  {
   "cell_type": "code",
   "execution_count": null,
   "id": "52f094d5",
   "metadata": {
    "scrolled": true
   },
   "outputs": [],
   "source": [
    "data_preprocessed_1 = data_shift(data_1,'Close')\n",
    "\n",
    "series_open_1 = data_preprocessed_1.loc[:, [\"Open\"]]\n",
    "series_high_1 = data_preprocessed_1.loc[:, [\"High\"]]\n",
    "series_low_1 = data_preprocessed_1.loc[:, [\"Low\"]]\n",
    "series_adj_1 = data_preprocessed_1.loc[:, [\"Adj Close\"]]\n",
    "series_volume_1 = data_preprocessed_1.loc[:, [\"Volume\"]]\n",
    "series_close_1 = data_preprocessed_1.loc[:, [\"Close\"]]\n",
    "\n",
    "series_open_shift1 = series_open_1.shift(18)\n",
    "series_high_shift1 = series_high_1.shift(16)\n",
    "series_low_shift1 = series_low_1.shift(18)\n",
    "series_adj_shift1 = series_adj_1.shift(9)\n",
    "series_volume_shift1 = series_volume_1.shift(3)\n",
    "series_close_shift1 = series_close_1.shift(9)\n",
    "\n",
    "data_pacf1 = pd.concat([series_open_shift1,series_high_shift1,series_low_shift1,series_adj_shift1,series_volume_shift1,series_close_shift1,series_close_1], axis=1)\n",
    "data_pacf1 = data_pacf1.dropna()\n",
    "\n",
    "data_pacf1"
   ]
  },
  {
   "cell_type": "code",
   "execution_count": null,
   "id": "f1c43b83",
   "metadata": {},
   "outputs": [],
   "source": [
    "data_pacf_all = pd.concat([data_pacf,data_pacf1], axis=0)\n",
    "data_pacf_all = data_pacf_all.set_axis(['Open', 'High', 'Low', 'Adj Close', 'Volume', 'Close', 'Target'], axis=1)\n",
    "data_pacf_all"
   ]
  },
  {
   "cell_type": "code",
   "execution_count": null,
   "id": "aa401c3c",
   "metadata": {},
   "outputs": [],
   "source": [
    "from pathlib import Path  \n",
    "filepath = Path('C:/Users/82422/OneDrive/internship/Optimal_Lag/Data/Data_PACF.csv')  \n",
    "filepath.parent.mkdir(parents=True, exist_ok=True)  \n",
    "data_pacf_all.to_csv(filepath)"
   ]
  },
  {
   "cell_type": "code",
   "execution_count": null,
   "id": "1f52c24b",
   "metadata": {},
   "outputs": [],
   "source": [
    "# train index: 1 - 2014\n",
    "# test index: 2015 - 2521"
   ]
  }
 ],
 "metadata": {
  "kernelspec": {
   "display_name": "Python 3 (ipykernel)",
   "language": "python",
   "name": "python3"
  },
  "language_info": {
   "codemirror_mode": {
    "name": "ipython",
    "version": 3
   },
   "file_extension": ".py",
   "mimetype": "text/x-python",
   "name": "python",
   "nbconvert_exporter": "python",
   "pygments_lexer": "ipython3",
   "version": "3.10.4"
  }
 },
 "nbformat": 4,
 "nbformat_minor": 5
}
