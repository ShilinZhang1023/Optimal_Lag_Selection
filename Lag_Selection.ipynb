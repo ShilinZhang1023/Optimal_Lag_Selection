{
 "cells": [
  {
   "cell_type": "code",
   "execution_count": 1,
   "id": "b55950de",
   "metadata": {},
   "outputs": [],
   "source": [
    "\n",
    "# Author: Shilin Zhang\n",
    "# Created Date: 13 June 2022\n",
    "\n",
    "# Description:\n",
    "# Replication work of the paper: \n",
    "# Optimal selection of time lags for TDSEP based on genetic algorithm\n",
    "\n",
    "# Related Paper:\n",
    "# TDSEP - an efficient algorithm for blind separation using time structure\n",
    "\n",
    "# Method of determning the optimal lag: \n",
    "# Indenpendent Component Analysis (ICA)\n",
    "# Genetic Algorithm (GA)\n"
   ]
  },
  {
   "cell_type": "code",
   "execution_count": 2,
   "id": "c21875e6",
   "metadata": {},
   "outputs": [],
   "source": [
    "import pandas as pd\n",
    "import numpy as np\n",
    "import matplotlib.pyplot as plot\n",
    "import yfinance as yf\n",
    "from numpy.random import randint\n",
    "from numpy.random import rand"
   ]
  },
  {
   "cell_type": "code",
   "execution_count": 3,
   "id": "4fa410a8",
   "metadata": {},
   "outputs": [
    {
     "name": "stdout",
     "output_type": "stream",
     "text": [
      "[*********************100%***********************]  1 of 1 completed\n"
     ]
    }
   ],
   "source": [
    "# read the data from yahoo finance\n",
    "startdate = '2020-09-01'\n",
    "enddate = '2022-02-01'\n",
    "datasource = 'SPY'\n",
    "data = yf.download(datasource,start = startdate,end = enddate)"
   ]
  },
  {
   "cell_type": "code",
   "execution_count": 4,
   "id": "6745ba7b",
   "metadata": {},
   "outputs": [
    {
     "data": {
      "text/html": [
       "<div>\n",
       "<style scoped>\n",
       "    .dataframe tbody tr th:only-of-type {\n",
       "        vertical-align: middle;\n",
       "    }\n",
       "\n",
       "    .dataframe tbody tr th {\n",
       "        vertical-align: top;\n",
       "    }\n",
       "\n",
       "    .dataframe thead th {\n",
       "        text-align: right;\n",
       "    }\n",
       "</style>\n",
       "<table border=\"1\" class=\"dataframe\">\n",
       "  <thead>\n",
       "    <tr style=\"text-align: right;\">\n",
       "      <th></th>\n",
       "      <th>Open</th>\n",
       "      <th>High</th>\n",
       "      <th>Low</th>\n",
       "      <th>Close</th>\n",
       "      <th>Adj Close</th>\n",
       "      <th>Volume</th>\n",
       "    </tr>\n",
       "    <tr>\n",
       "      <th>Date</th>\n",
       "      <th></th>\n",
       "      <th></th>\n",
       "      <th></th>\n",
       "      <th></th>\n",
       "      <th></th>\n",
       "      <th></th>\n",
       "    </tr>\n",
       "  </thead>\n",
       "  <tbody>\n",
       "    <tr>\n",
       "      <th>2020-08-31</th>\n",
       "      <td>350.350006</td>\n",
       "      <td>351.299988</td>\n",
       "      <td>349.059998</td>\n",
       "      <td>349.309998</td>\n",
       "      <td>339.358582</td>\n",
       "      <td>66099200</td>\n",
       "    </tr>\n",
       "    <tr>\n",
       "      <th>2020-09-01</th>\n",
       "      <td>350.209991</td>\n",
       "      <td>352.709991</td>\n",
       "      <td>349.239990</td>\n",
       "      <td>352.600006</td>\n",
       "      <td>342.554840</td>\n",
       "      <td>54908700</td>\n",
       "    </tr>\n",
       "    <tr>\n",
       "      <th>2020-09-02</th>\n",
       "      <td>354.670013</td>\n",
       "      <td>358.750000</td>\n",
       "      <td>353.429993</td>\n",
       "      <td>357.700012</td>\n",
       "      <td>347.509521</td>\n",
       "      <td>69540000</td>\n",
       "    </tr>\n",
       "    <tr>\n",
       "      <th>2020-09-03</th>\n",
       "      <td>355.869995</td>\n",
       "      <td>356.380005</td>\n",
       "      <td>342.589996</td>\n",
       "      <td>345.390015</td>\n",
       "      <td>335.550262</td>\n",
       "      <td>148011100</td>\n",
       "    </tr>\n",
       "    <tr>\n",
       "      <th>2020-09-04</th>\n",
       "      <td>346.130005</td>\n",
       "      <td>347.829987</td>\n",
       "      <td>334.869995</td>\n",
       "      <td>342.570007</td>\n",
       "      <td>332.810547</td>\n",
       "      <td>139156300</td>\n",
       "    </tr>\n",
       "    <tr>\n",
       "      <th>...</th>\n",
       "      <td>...</td>\n",
       "      <td>...</td>\n",
       "      <td>...</td>\n",
       "      <td>...</td>\n",
       "      <td>...</td>\n",
       "      <td>...</td>\n",
       "    </tr>\n",
       "    <tr>\n",
       "      <th>2022-01-25</th>\n",
       "      <td>433.059998</td>\n",
       "      <td>439.720001</td>\n",
       "      <td>427.149994</td>\n",
       "      <td>434.470001</td>\n",
       "      <td>431.261536</td>\n",
       "      <td>167997300</td>\n",
       "    </tr>\n",
       "    <tr>\n",
       "      <th>2022-01-26</th>\n",
       "      <td>440.720001</td>\n",
       "      <td>444.040009</td>\n",
       "      <td>428.859985</td>\n",
       "      <td>433.380005</td>\n",
       "      <td>430.179596</td>\n",
       "      <td>186391100</td>\n",
       "    </tr>\n",
       "    <tr>\n",
       "      <th>2022-01-27</th>\n",
       "      <td>438.260010</td>\n",
       "      <td>441.589996</td>\n",
       "      <td>429.450012</td>\n",
       "      <td>431.239990</td>\n",
       "      <td>428.055389</td>\n",
       "      <td>149878300</td>\n",
       "    </tr>\n",
       "    <tr>\n",
       "      <th>2022-01-28</th>\n",
       "      <td>432.679993</td>\n",
       "      <td>442.000000</td>\n",
       "      <td>427.820007</td>\n",
       "      <td>441.950012</td>\n",
       "      <td>438.686310</td>\n",
       "      <td>164457400</td>\n",
       "    </tr>\n",
       "    <tr>\n",
       "      <th>2022-01-31</th>\n",
       "      <td>441.239990</td>\n",
       "      <td>450.279999</td>\n",
       "      <td>439.809998</td>\n",
       "      <td>449.910004</td>\n",
       "      <td>446.587494</td>\n",
       "      <td>152251400</td>\n",
       "    </tr>\n",
       "  </tbody>\n",
       "</table>\n",
       "<p>358 rows × 6 columns</p>\n",
       "</div>"
      ],
      "text/plain": [
       "                  Open        High         Low       Close   Adj Close  \\\n",
       "Date                                                                     \n",
       "2020-08-31  350.350006  351.299988  349.059998  349.309998  339.358582   \n",
       "2020-09-01  350.209991  352.709991  349.239990  352.600006  342.554840   \n",
       "2020-09-02  354.670013  358.750000  353.429993  357.700012  347.509521   \n",
       "2020-09-03  355.869995  356.380005  342.589996  345.390015  335.550262   \n",
       "2020-09-04  346.130005  347.829987  334.869995  342.570007  332.810547   \n",
       "...                ...         ...         ...         ...         ...   \n",
       "2022-01-25  433.059998  439.720001  427.149994  434.470001  431.261536   \n",
       "2022-01-26  440.720001  444.040009  428.859985  433.380005  430.179596   \n",
       "2022-01-27  438.260010  441.589996  429.450012  431.239990  428.055389   \n",
       "2022-01-28  432.679993  442.000000  427.820007  441.950012  438.686310   \n",
       "2022-01-31  441.239990  450.279999  439.809998  449.910004  446.587494   \n",
       "\n",
       "               Volume  \n",
       "Date                   \n",
       "2020-08-31   66099200  \n",
       "2020-09-01   54908700  \n",
       "2020-09-02   69540000  \n",
       "2020-09-03  148011100  \n",
       "2020-09-04  139156300  \n",
       "...               ...  \n",
       "2022-01-25  167997300  \n",
       "2022-01-26  186391100  \n",
       "2022-01-27  149878300  \n",
       "2022-01-28  164457400  \n",
       "2022-01-31  152251400  \n",
       "\n",
       "[358 rows x 6 columns]"
      ]
     },
     "execution_count": 4,
     "metadata": {},
     "output_type": "execute_result"
    }
   ],
   "source": [
    "data"
   ]
  },
  {
   "cell_type": "code",
   "execution_count": 5,
   "id": "4efad8a9",
   "metadata": {},
   "outputs": [
    {
     "data": {
      "text/plain": [
       "<matplotlib.legend.Legend at 0x256cd529690>"
      ]
     },
     "execution_count": 5,
     "metadata": {},
     "output_type": "execute_result"
    },
    {
     "data": {
      "image/png": "[encoded data removed]",
      "text/plain": [
       "<Figure size 1800x360 with 1 Axes>"
      ]
     },
     "metadata": {
      "needs_background": "light"
     },
     "output_type": "display_data"
    }
   ],
   "source": [
    "plot.figure(figsize=(25,5))\n",
    "plot.plot(data['Close'],label='Close Price')\n",
    "plot.legend()"
   ]
  },
  {
   "cell_type": "code",
   "execution_count": 6,
   "id": "4172fe5c",
   "metadata": {},
   "outputs": [],
   "source": [
    "# observations matrix X\n",
    "\n",
    "from sklearn.preprocessing import MinMaxScaler\n",
    "\n",
    "cols = ['Open', 'High', 'Low', 'Adj Close','Volume','Close']\n",
    "mmscaler = MinMaxScaler()\n",
    "data[cols] = mmscaler.fit_transform(data[cols])\n",
    "X = data[cols].to_numpy()\n",
    "X = X.T"
   ]
  },
  {
   "cell_type": "code",
   "execution_count": 7,
   "id": "2daffc2a",
   "metadata": {
    "scrolled": true
   },
   "outputs": [
    {
     "data": {
      "text/plain": [
       "(6, 358)"
      ]
     },
     "execution_count": 7,
     "metadata": {},
     "output_type": "execute_result"
    }
   ],
   "source": [
    "X.shape"
   ]
  },
  {
   "cell_type": "code",
   "execution_count": 8,
   "id": "010a7ad6",
   "metadata": {},
   "outputs": [],
   "source": [
    "def center(x):\n",
    "    mean = np.mean(x, axis=1, keepdims=True)\n",
    "    centered =  x - mean\n",
    "    return centered, mean\n",
    "\n",
    "# calculate the covariance matrix of six observed time series\n",
    "def covariance(x):\n",
    "    mean = np.mean(x, axis=1, keepdims=True)\n",
    "    n = np.shape(x)[1] - 1\n",
    "    m = x - mean\n",
    "\n",
    "    return (m.dot(m.T))/n"
   ]
  },
  {
   "cell_type": "code",
   "execution_count": 9,
   "id": "22ba55d5",
   "metadata": {},
   "outputs": [],
   "source": [
    "def whiten(X):\n",
    "    # Calculate the covariance matrix\n",
    "    covarMatrix = covariance(X)\n",
    "\n",
    "    # Single value decoposition\n",
    "    U, S, V = np.linalg.svd(covarMatrix)\n",
    "\n",
    "    # Calculate diagonal matrix of eigenvalues\n",
    "    d = np.diag(1.0 / np.sqrt(S))\n",
    "\n",
    "    # Calculate whitening matrix\n",
    "    whiteM = np.dot(U, np.dot(d, U.T))\n",
    "\n",
    "    # Project onto whitening matrix\n",
    "    Z = np.dot(whiteM, X)\n",
    "\n",
    "    return Z, whiteM"
   ]
  },
  {
   "cell_type": "code",
   "execution_count": 10,
   "id": "a234c6eb",
   "metadata": {},
   "outputs": [],
   "source": [
    "X_center, meanX = center(X)"
   ]
  },
  {
   "cell_type": "code",
   "execution_count": 11,
   "id": "0cfbf136",
   "metadata": {
    "scrolled": true
   },
   "outputs": [
    {
     "data": {
      "text/plain": [
       "array([[-0.37557559, -0.37646176, -0.34823378, ...,  0.18081683,\n",
       "         0.14550027,  0.19967747],\n",
       "       [-0.39500232, -0.38579744, -0.34636665, ...,  0.19443491,\n",
       "         0.19711153,  0.25116556],\n",
       "       [-0.3722311 , -0.37107922, -0.34426492, ...,  0.14223204,\n",
       "         0.13180067,  0.2085317 ],\n",
       "       [-0.39871311, -0.37867124, -0.34760334, ...,  0.15745263,\n",
       "         0.2241129 ,  0.2736566 ],\n",
       "       [-0.04720245, -0.09686605, -0.03193213, ...,  0.32461039,\n",
       "         0.38931264,  0.33514224],\n",
       "       [-0.38922743, -0.36801115, -0.33512273, ...,  0.13911464,\n",
       "         0.20818037,  0.25951198]])"
      ]
     },
     "execution_count": 11,
     "metadata": {},
     "output_type": "execute_result"
    }
   ],
   "source": [
    "X_center"
   ]
  },
  {
   "cell_type": "code",
   "execution_count": 12,
   "id": "90628770",
   "metadata": {
    "scrolled": true
   },
   "outputs": [],
   "source": [
    "Z,whiteM = whiten(X_center)"
   ]
  },
  {
   "cell_type": "code",
   "execution_count": 13,
   "id": "69b207eb",
   "metadata": {
    "scrolled": false
   },
   "outputs": [
    {
     "data": {
      "text/plain": [
       "array([[-0.5670718 , -0.94114943, -1.43948067, ...,  1.00828404,\n",
       "        -1.55306414, -2.38088744],\n",
       "       [-0.96570784, -0.61233818,  0.1856434 , ...,  1.89541021,\n",
       "         0.26303377,  0.40041769],\n",
       "       [ 0.45256615, -0.88781317, -0.9050705 , ..., -0.16133813,\n",
       "        -2.52111171, -0.08662831],\n",
       "       [-1.88841386, -1.46951038, -2.02730982, ...,  1.23986039,\n",
       "         3.3715472 ,  2.77625055],\n",
       "       [-0.30883413, -0.73306067, -0.28552923, ...,  2.19079488,\n",
       "         2.70816121,  2.45849913],\n",
       "       [-0.17606462,  0.81809976,  1.34766569, ..., -2.61304559,\n",
       "         1.89872323,  1.2144292 ]])"
      ]
     },
     "execution_count": 13,
     "metadata": {},
     "output_type": "execute_result"
    }
   ],
   "source": [
    "Z"
   ]
  },
  {
   "cell_type": "code",
   "execution_count": 14,
   "id": "0004fef9",
   "metadata": {},
   "outputs": [
    {
     "name": "stdout",
     "output_type": "stream",
     "text": [
      "[[ 1.  0.  0.  0. -0. -0.]\n",
      " [ 0.  1. -0.  0. -0.  0.]\n",
      " [ 0. -0.  1. -0.  0.  0.]\n",
      " [ 0.  0. -0.  1. -0.  0.]\n",
      " [-0. -0.  0. -0.  1.  0.]\n",
      " [-0.  0.  0.  0.  0.  1.]]\n"
     ]
    }
   ],
   "source": [
    "print(np.round(covariance(Z)))"
   ]
  },
  {
   "cell_type": "code",
   "execution_count": 15,
   "id": "23080c5c",
   "metadata": {},
   "outputs": [
    {
     "data": {
      "text/plain": [
       "(6, 358)"
      ]
     },
     "execution_count": 15,
     "metadata": {},
     "output_type": "execute_result"
    }
   ],
   "source": [
    "Z.shape"
   ]
  },
  {
   "cell_type": "code",
   "execution_count": 16,
   "id": "baca6f94",
   "metadata": {},
   "outputs": [],
   "source": [
    "# Independent Component Analysis\n",
    "# X = S * A.T\n",
    "# By using ICA, we could approximate original signal matrix S\n",
    "\n",
    "from sklearn.decomposition import FastICA\n",
    "\n",
    "transformer = FastICA(n_components=6,\n",
    "                      random_state=0,\n",
    "                      whiten='unit-variance',\n",
    "                      fun='logcosh')\n",
    "S = transformer.fit_transform(X.T).T"
   ]
  },
  {
   "cell_type": "code",
   "execution_count": 17,
   "id": "756929c0",
   "metadata": {},
   "outputs": [
    {
     "data": {
      "text/plain": [
       "(6, 358)"
      ]
     },
     "execution_count": 17,
     "metadata": {},
     "output_type": "execute_result"
    }
   ],
   "source": [
    "S.shape"
   ]
  },
  {
   "cell_type": "code",
   "execution_count": 18,
   "id": "8b66ef89",
   "metadata": {},
   "outputs": [],
   "source": [
    "# Calculate Rotation Matrix Q\n",
    "\n",
    "# covariance matrix of Z with tau  = Q_T * covariance matrix of S with tau * Q\n",
    "# TDSEP - an efficient algorithm for blind separation using time structure\n",
    "\n",
    "# Calculate the average covariance matrix with a list of lags\n",
    "\n",
    "def covariance_with_lag(x,lags):\n",
    "    matrix = np.empty((6, 6), float)\n",
    "    for i in lags:\n",
    "        x1 = x[:,i:n]\n",
    "        x2 = x[:,0:n-lag]\n",
    "        mean1 = np.mean(x1, axis=1, keepdims=True)\n",
    "        mean1 = np.mean(x2, axis=1, keepdims=True)\n",
    "        n = np.shape(x1)[1] - 1\n",
    "        m1 = x1 - mean1\n",
    "        m2 = x2 - mean2\n",
    "        matrix = matrix + m1.dot(m2.T)/n\n",
    "    return matrix/len(lag)\n",
    "\n",
    "# Compute the orthogonal matrix Q via approximate simultaneous diagonalization\n",
    "\n",
    "def generate_Q(Z,lags):\n",
    "    # Set a fixed Q for testing\n",
    "    Q = np.array([[1,1,1,1,1,1],\n",
    "     [1,1,1,1,1,1],\n",
    "     [1,1,1,1,1,1],\n",
    "     [1,1,1,1,1,1],\n",
    "     [1,1,1,1,1,1],\n",
    "     [1,1,1,1,1,1]])\n",
    "    return Q"
   ]
  },
  {
   "cell_type": "code",
   "execution_count": 19,
   "id": "fd0da86c",
   "metadata": {},
   "outputs": [],
   "source": [
    "# Negentropy Estimation\n",
    "\n",
    "# One of the estimation function G1 \n",
    "def G(x):\n",
    "    return 1/a_1 * np.cosh(a_1 * x)\n",
    "\n",
    "def J(Y):\n",
    "    row,col = Y.shape\n",
    "    J = 0\n",
    "    for i in range(0,col):\n",
    "        sum1 = 0\n",
    "        sum2 = 0\n",
    "        for j in Y[:,i]:\n",
    "            sum1 = sum1 + G(j)\n",
    "            v = np.random.normal(0,1)\n",
    "            sum2 = sum2 + + G(v)\n",
    "        E_Y = sum1/row\n",
    "        E_V = sum2/row\n",
    "        J = J + (E_Y - E_V) ** 2\n",
    "    return J"
   ]
  },
  {
   "cell_type": "code",
   "execution_count": 20,
   "id": "9612c61f",
   "metadata": {},
   "outputs": [],
   "source": [
    "# genetic algorithm search for optimization problem\n",
    "\n",
    "\n",
    "# objective function\n",
    "def obj(x):\n",
    "    Q = generate_Q(Z,x)\n",
    "    Y = Q @ Z\n",
    "    result  = n_d * J(Y)/sum(x)\n",
    "    return -result\n",
    "\n",
    "# tournament selection\n",
    "def selection(pop, scores, k=3):\n",
    "    # first random selection\n",
    "    selection_ix = randint(len(pop))\n",
    "    for ix in randint(0, len(pop), k-1):\n",
    "        # check if better (e.g. perform a tournament)\n",
    "        if scores[ix] < scores[selection_ix]:\n",
    "            selection_ix = ix\n",
    "    return pop[selection_ix]\n",
    "\n",
    "# crossover two parents to create two children\n",
    "def crossover(p1, p2, r_cross):\n",
    "    # children are copies of parents by default\n",
    "    c1, c2 = p1.copy(), p2.copy()\n",
    "    # check for recombination\n",
    "    if rand() < r_cross:\n",
    "        # select crossover point that is not on the end of the string\n",
    "        pt = randint(1, len(p1)-2)\n",
    "        # perform crossover\n",
    "        c1 = p1[:pt] + p2[pt:]\n",
    "        c2 = p2[:pt] + p1[pt:]\n",
    "    return [c1, c2]\n",
    "\n",
    "# mutation operator\n",
    "def mutation(bitstring, r_mut):\n",
    "    for i in range(len(bitstring)):\n",
    "        # check for a mutation\n",
    "        if rand() < r_mut:\n",
    "            # flip the bit\n",
    "            bitstring[i] = 1 - bitstring[i]"
   ]
  },
  {
   "cell_type": "code",
   "execution_count": 21,
   "id": "196927e1",
   "metadata": {},
   "outputs": [],
   "source": [
    "# genetic algorithm\n",
    "\n",
    "def genetic_algorithm(objective, n_bits, n_iter, n_pop, r_cross, r_mut):\n",
    "    # initial population of random bitstring\n",
    "    pop = [randint(0, 2, n_bits).tolist() for _ in range(n_pop)]\n",
    "    # keep track of best solution\n",
    "    best, best_eval = 0, objective(pop[0])\n",
    "    # enumerate generations\n",
    "    for gen in range(n_iter):\n",
    "        # evaluate all candidates in the population\n",
    "        scores = [objective(c) for c in pop]\n",
    "        # check for new best solution\n",
    "        for i in range(n_pop):\n",
    "            if scores[i] < best_eval:\n",
    "                best, best_eval = pop[i], scores[i]\n",
    "                # print(\">%d, new best f(%s) = %.3f\" % (gen,  pop[i], scores[i]))\n",
    "                print(\"iteration: %d, number of lags: %d, score: %.3f\" %(gen, sum(pop[i]), scores[i]))\n",
    "        # select parents\n",
    "        selected = [selection(pop, scores) for _ in range(n_pop)]\n",
    "        # create the next generation\n",
    "        children = list()\n",
    "        for i in range(0, n_pop, 2):\n",
    "            # get selected parents in pairs\n",
    "            p1, p2 = selected[i], selected[i+1]\n",
    "            # crossover and mutation\n",
    "            for c in crossover(p1, p2, r_cross):\n",
    "                # mutation\n",
    "                mutation(c, r_mut)\n",
    "                # store for next generation\n",
    "                children.append(c)\n",
    "        # replace population\n",
    "        pop = children\n",
    "    return [best, best_eval]"
   ]
  },
  {
   "cell_type": "code",
   "execution_count": 22,
   "id": "c261532a",
   "metadata": {},
   "outputs": [],
   "source": [
    "# Parameter Setting\n",
    "\n",
    "# length of an individual/ maximum tau\n",
    "n_d = 100\n",
    "# number of generation\n",
    "n_g = 500\n",
    "# number of population\n",
    "n_p = 100\n",
    "# crossover prob\n",
    "p_c = 0.85\n",
    "# mutation prob\n",
    "p_m = 0.05\n",
    "\n",
    "# parameter for negentropy estimation\n",
    "a_1 = 1.5\n"
   ]
  },
  {
   "cell_type": "code",
   "execution_count": 23,
   "id": "6e42986f",
   "metadata": {
    "scrolled": true
   },
   "outputs": [
    {
     "name": "stdout",
     "output_type": "stream",
     "text": [
      "iteration: 0, number of lags: 50, score: -243789607.188\n",
      "iteration: 0, number of lags: 49, score: -248847111.107\n",
      "iteration: 0, number of lags: 43, score: -283500947.326\n",
      "iteration: 0, number of lags: 42, score: -290250078.656\n",
      "iteration: 0, number of lags: 38, score: -320797804.460\n",
      "iteration: 1, number of lags: 38, score: -320798546.786\n",
      "iteration: 2, number of lags: 37, score: -329528858.428\n",
      "iteration: 2, number of lags: 36, score: -338674379.342\n",
      "iteration: 3, number of lags: 34, score: -358572737.878\n",
      "iteration: 4, number of lags: 32, score: -381026868.378\n",
      "iteration: 5, number of lags: 30, score: -406280919.729\n",
      "iteration: 6, number of lags: 30, score: -406447735.442\n",
      "iteration: 6, number of lags: 28, score: -435246037.435\n",
      "iteration: 7, number of lags: 27, score: -451587629.050\n",
      "iteration: 8, number of lags: 26, score: -468960591.521\n",
      "iteration: 9, number of lags: 25, score: -487560818.843\n",
      "iteration: 9, number of lags: 24, score: -507933588.763\n",
      "iteration: 10, number of lags: 23, score: -530134053.960\n",
      "iteration: 10, number of lags: 23, score: -530155824.543\n",
      "iteration: 10, number of lags: 20, score: -609609479.238\n",
      "iteration: 14, number of lags: 19, score: -641719720.110\n",
      "iteration: 17, number of lags: 17, score: -716534312.355\n",
      "iteration: 18, number of lags: 17, score: -717090837.818\n",
      "iteration: 18, number of lags: 16, score: -762068935.845\n",
      "iteration: 19, number of lags: 15, score: -812768222.750\n",
      "iteration: 23, number of lags: 15, score: -812925382.588\n",
      "iteration: 23, number of lags: 14, score: -870807795.475\n",
      "iteration: 25, number of lags: 13, score: -938013068.478\n",
      "iteration: 95, number of lags: 12, score: -1016131453.279\n",
      "iteration: 96, number of lags: 12, score: -1016172864.410\n",
      "iteration: 452, number of lags: 11, score: -1108426716.237\n",
      "Done!\n",
      "f([0, 0, 0, 0, 0, 0, 0, 1, 1, 0, 0, 0, 0, 1, 0, 0, 0, 1, 0, 1, 0, 0, 0, 0, 0, 1, 0, 0, 0, 0, 0, 0, 0, 0, 0, 0, 0, 0, 1, 0, 0, 0, 0, 0, 0, 0, 0, 0, 0, 1, 0, 0, 0, 0, 0, 0, 0, 0, 1, 0, 0, 0, 0, 0, 0, 0, 0, 0, 0, 0, 0, 0, 0, 1, 0, 0, 0, 1, 0, 0, 0, 0, 0, 0, 0, 0, 0, 0, 0, 0, 0, 0, 0, 0, 0, 0, 0, 0, 0, 0]) = -1108426716.236570\n"
     ]
    }
   ],
   "source": [
    "best, score = genetic_algorithm(obj, n_d, n_g, n_p, p_c, p_m)\n",
    "print('Done!')\n",
    "print('f(%s) = %f' % (best, score))"
   ]
  },
  {
   "cell_type": "code",
   "execution_count": 24,
   "id": "fda5970f",
   "metadata": {},
   "outputs": [
    {
     "data": {
      "text/plain": [
       "[8, 9, 14, 18, 20, 26, 39, 50, 59, 74, 78]"
      ]
     },
     "execution_count": 24,
     "metadata": {},
     "output_type": "execute_result"
    }
   ],
   "source": [
    "table = pd.DataFrame(best,columns = ['lag'])\n",
    "\n",
    "best_lag_list = []\n",
    "for i in range(0,100):\n",
    "    if table.iloc[i][0] == 1:\n",
    "        best_lag_list.append(i+1)\n",
    "        \n",
    "best_lag_list"
   ]
  },
  {
   "cell_type": "markdown",
   "id": "4abd244d",
   "metadata": {},
   "source": [
    "### Traning Set Preparation"
   ]
  },
  {
   "cell_type": "markdown",
   "id": "0a9ec771",
   "metadata": {},
   "source": [
    "Calculate the rotation matrix Q for training set\n",
    "Calculate indepdent component matrix Y for training set\n",
    "Using the lags trained from the previous step and  indepdent component matrix Y to construct the prediction model input"
   ]
  },
  {
   "cell_type": "code",
   "execution_count": 25,
   "id": "83c255c4",
   "metadata": {},
   "outputs": [
    {
     "name": "stdout",
     "output_type": "stream",
     "text": [
      "[*********************100%***********************]  1 of 1 completed\n",
      "[*********************100%***********************]  1 of 1 completed\n"
     ]
    }
   ],
   "source": [
    "# Prepare the training and testing data set (80:20)\n",
    "\n",
    "startdate_training = '2020-09-01'\n",
    "enddate_training = '2022-02-01'\n",
    "startdate_testing = '2022-02-01'\n",
    "enddate_testing = '2022-06-01'\n",
    "datasource = 'SPY'\n",
    "training_set = yf.download(datasource,start = startdate_training,end = enddate_training)\n",
    "testing_set = yf.download(datasource,start = startdate_testing,end = enddate_testing)"
   ]
  },
  {
   "cell_type": "code",
   "execution_count": 26,
   "id": "1a6305a3",
   "metadata": {},
   "outputs": [],
   "source": [
    "def training_preparation(training_set,lags):\n",
    "    cols = ['Open', 'High', 'Low', 'Adj Close','Volume','Close']\n",
    "    mmscaler = MinMaxScaler()\n",
    "    training_set[cols] = mmscaler.fit_transform(training_set[cols])\n",
    "    X = training_set[cols].to_numpy()\n",
    "    X = X.T\n",
    "    \n",
    "    X_center, meanX = center(X)\n",
    "    Z,whiteM = whiten(X_center)\n",
    "    \n",
    "    Q = generate_Q(Z,lags)\n",
    "    Y = Q @ Z\n",
    "    return Q,Y.T"
   ]
  },
  {
   "cell_type": "code",
   "execution_count": 27,
   "id": "2b5acf29",
   "metadata": {},
   "outputs": [],
   "source": [
    "Q_training, Y_training = training_preparation(training_set,best_lag_list)"
   ]
  },
  {
   "cell_type": "code",
   "execution_count": 28,
   "id": "7e592886",
   "metadata": {
    "scrolled": false
   },
   "outputs": [
    {
     "data": {
      "text/plain": [
       "array([[-3.45352615, -3.45352615, -3.45352615, -3.45352615, -3.45352615,\n",
       "        -3.45352615],\n",
       "       [-3.8257721 , -3.8257721 , -3.8257721 , -3.8257721 , -3.8257721 ,\n",
       "        -3.8257721 ],\n",
       "       [-3.1240813 , -3.1240813 , -3.1240813 , -3.1240813 , -3.1240813 ,\n",
       "        -3.1240813 ],\n",
       "       ...,\n",
       "       [ 3.55996589,  3.55996589,  3.55996589,  3.55996589,  3.55996589,\n",
       "         3.55996589],\n",
       "       [ 4.16728974,  4.16728974,  4.16728974,  4.16728974,  4.16728974,\n",
       "         4.16728974],\n",
       "       [ 4.38208097,  4.38208097,  4.38208097,  4.38208097,  4.38208097,\n",
       "         4.38208097]])"
      ]
     },
     "execution_count": 28,
     "metadata": {},
     "output_type": "execute_result"
    }
   ],
   "source": [
    "Y_training"
   ]
  },
  {
   "cell_type": "code",
   "execution_count": 29,
   "id": "bf83bb66",
   "metadata": {},
   "outputs": [
    {
     "data": {
      "text/plain": [
       "(358, 6)"
      ]
     },
     "execution_count": 29,
     "metadata": {},
     "output_type": "execute_result"
    }
   ],
   "source": [
    "Y_training.shape"
   ]
  },
  {
   "cell_type": "code",
   "execution_count": 30,
   "id": "be2e4fb6",
   "metadata": {},
   "outputs": [],
   "source": [
    "def testing_preparation(testing_set,Q_training):\n",
    "    cols = ['Open', 'High', 'Low', 'Adj Close','Volume','Close']\n",
    "    mmscaler = MinMaxScaler()\n",
    "    testing_set[cols] = mmscaler.fit_transform(testing_set[cols])\n",
    "    X = testing_set[cols].to_numpy()\n",
    "    X = X.T\n",
    "    \n",
    "    X_center, meanX = center(X)\n",
    "    Z,whiteM = whiten(X_center)\n",
    "    \n",
    "    Q = Q_training\n",
    "    Y = Q @ Z\n",
    "    return Y.T"
   ]
  },
  {
   "cell_type": "code",
   "execution_count": 32,
   "id": "dcb96ade",
   "metadata": {},
   "outputs": [],
   "source": [
    "Y_testing = testing_preparation(testing_set,Q_training)"
   ]
  },
  {
   "cell_type": "code",
   "execution_count": 33,
   "id": "6e0eb7c3",
   "metadata": {},
   "outputs": [
    {
     "data": {
      "text/plain": [
       "(83, 6)"
      ]
     },
     "execution_count": 33,
     "metadata": {},
     "output_type": "execute_result"
    }
   ],
   "source": [
    "Y_testing.shape"
   ]
  },
  {
   "cell_type": "code",
   "execution_count": 34,
   "id": "ff46cb4f",
   "metadata": {},
   "outputs": [],
   "source": [
    "# save training set and testing set as csv file\n",
    "\n",
    "training_df = pd.DataFrame(Y_training, columns=cols)\n",
    "testing_df = pd.DataFrame(Y_testing, columns=cols)"
   ]
  },
  {
   "cell_type": "code",
   "execution_count": 35,
   "id": "f2267daa",
   "metadata": {},
   "outputs": [
    {
     "data": {
      "text/html": [
       "<div>\n",
       "<style scoped>\n",
       "    .dataframe tbody tr th:only-of-type {\n",
       "        vertical-align: middle;\n",
       "    }\n",
       "\n",
       "    .dataframe tbody tr th {\n",
       "        vertical-align: top;\n",
       "    }\n",
       "\n",
       "    .dataframe thead th {\n",
       "        text-align: right;\n",
       "    }\n",
       "</style>\n",
       "<table border=\"1\" class=\"dataframe\">\n",
       "  <thead>\n",
       "    <tr style=\"text-align: right;\">\n",
       "      <th></th>\n",
       "      <th>Open</th>\n",
       "      <th>High</th>\n",
       "      <th>Low</th>\n",
       "      <th>Adj Close</th>\n",
       "      <th>Volume</th>\n",
       "      <th>Close</th>\n",
       "    </tr>\n",
       "  </thead>\n",
       "  <tbody>\n",
       "    <tr>\n",
       "      <th>0</th>\n",
       "      <td>3.486754</td>\n",
       "      <td>3.486754</td>\n",
       "      <td>3.486754</td>\n",
       "      <td>3.486754</td>\n",
       "      <td>3.486754</td>\n",
       "      <td>3.486754</td>\n",
       "    </tr>\n",
       "    <tr>\n",
       "      <th>1</th>\n",
       "      <td>3.945269</td>\n",
       "      <td>3.945269</td>\n",
       "      <td>3.945269</td>\n",
       "      <td>3.945269</td>\n",
       "      <td>3.945269</td>\n",
       "      <td>3.945269</td>\n",
       "    </tr>\n",
       "    <tr>\n",
       "      <th>2</th>\n",
       "      <td>2.801694</td>\n",
       "      <td>2.801694</td>\n",
       "      <td>2.801694</td>\n",
       "      <td>2.801694</td>\n",
       "      <td>2.801694</td>\n",
       "      <td>2.801694</td>\n",
       "    </tr>\n",
       "    <tr>\n",
       "      <th>3</th>\n",
       "      <td>2.663597</td>\n",
       "      <td>2.663597</td>\n",
       "      <td>2.663597</td>\n",
       "      <td>2.663597</td>\n",
       "      <td>2.663597</td>\n",
       "      <td>2.663597</td>\n",
       "    </tr>\n",
       "    <tr>\n",
       "      <th>4</th>\n",
       "      <td>1.318984</td>\n",
       "      <td>1.318984</td>\n",
       "      <td>1.318984</td>\n",
       "      <td>1.318984</td>\n",
       "      <td>1.318984</td>\n",
       "      <td>1.318984</td>\n",
       "    </tr>\n",
       "    <tr>\n",
       "      <th>...</th>\n",
       "      <td>...</td>\n",
       "      <td>...</td>\n",
       "      <td>...</td>\n",
       "      <td>...</td>\n",
       "      <td>...</td>\n",
       "      <td>...</td>\n",
       "    </tr>\n",
       "    <tr>\n",
       "      <th>78</th>\n",
       "      <td>-5.547033</td>\n",
       "      <td>-5.547033</td>\n",
       "      <td>-5.547033</td>\n",
       "      <td>-5.547033</td>\n",
       "      <td>-5.547033</td>\n",
       "      <td>-5.547033</td>\n",
       "    </tr>\n",
       "    <tr>\n",
       "      <th>79</th>\n",
       "      <td>-5.079125</td>\n",
       "      <td>-5.079125</td>\n",
       "      <td>-5.079125</td>\n",
       "      <td>-5.079125</td>\n",
       "      <td>-5.079125</td>\n",
       "      <td>-5.079125</td>\n",
       "    </tr>\n",
       "    <tr>\n",
       "      <th>80</th>\n",
       "      <td>-4.662657</td>\n",
       "      <td>-4.662657</td>\n",
       "      <td>-4.662657</td>\n",
       "      <td>-4.662657</td>\n",
       "      <td>-4.662657</td>\n",
       "      <td>-4.662657</td>\n",
       "    </tr>\n",
       "    <tr>\n",
       "      <th>81</th>\n",
       "      <td>-3.272813</td>\n",
       "      <td>-3.272813</td>\n",
       "      <td>-3.272813</td>\n",
       "      <td>-3.272813</td>\n",
       "      <td>-3.272813</td>\n",
       "      <td>-3.272813</td>\n",
       "    </tr>\n",
       "    <tr>\n",
       "      <th>82</th>\n",
       "      <td>-2.571917</td>\n",
       "      <td>-2.571917</td>\n",
       "      <td>-2.571917</td>\n",
       "      <td>-2.571917</td>\n",
       "      <td>-2.571917</td>\n",
       "      <td>-2.571917</td>\n",
       "    </tr>\n",
       "  </tbody>\n",
       "</table>\n",
       "<p>83 rows × 6 columns</p>\n",
       "</div>"
      ],
      "text/plain": [
       "        Open      High       Low  Adj Close    Volume     Close\n",
       "0   3.486754  3.486754  3.486754   3.486754  3.486754  3.486754\n",
       "1   3.945269  3.945269  3.945269   3.945269  3.945269  3.945269\n",
       "2   2.801694  2.801694  2.801694   2.801694  2.801694  2.801694\n",
       "3   2.663597  2.663597  2.663597   2.663597  2.663597  2.663597\n",
       "4   1.318984  1.318984  1.318984   1.318984  1.318984  1.318984\n",
       "..       ...       ...       ...        ...       ...       ...\n",
       "78 -5.547033 -5.547033 -5.547033  -5.547033 -5.547033 -5.547033\n",
       "79 -5.079125 -5.079125 -5.079125  -5.079125 -5.079125 -5.079125\n",
       "80 -4.662657 -4.662657 -4.662657  -4.662657 -4.662657 -4.662657\n",
       "81 -3.272813 -3.272813 -3.272813  -3.272813 -3.272813 -3.272813\n",
       "82 -2.571917 -2.571917 -2.571917  -2.571917 -2.571917 -2.571917\n",
       "\n",
       "[83 rows x 6 columns]"
      ]
     },
     "execution_count": 35,
     "metadata": {},
     "output_type": "execute_result"
    }
   ],
   "source": [
    "testing_df"
   ]
  },
  {
   "cell_type": "code",
   "execution_count": 37,
   "id": "f25c3cb9",
   "metadata": {},
   "outputs": [],
   "source": [
    "Y_df = pd.concat([training_df,testing_df])"
   ]
  },
  {
   "cell_type": "code",
   "execution_count": 40,
   "id": "8313eb0d",
   "metadata": {
    "scrolled": true
   },
   "outputs": [
    {
     "data": {
      "text/html": [
       "<div>\n",
       "<style scoped>\n",
       "    .dataframe tbody tr th:only-of-type {\n",
       "        vertical-align: middle;\n",
       "    }\n",
       "\n",
       "    .dataframe tbody tr th {\n",
       "        vertical-align: top;\n",
       "    }\n",
       "\n",
       "    .dataframe thead th {\n",
       "        text-align: right;\n",
       "    }\n",
       "</style>\n",
       "<table border=\"1\" class=\"dataframe\">\n",
       "  <thead>\n",
       "    <tr style=\"text-align: right;\">\n",
       "      <th></th>\n",
       "      <th>Open</th>\n",
       "      <th>High</th>\n",
       "      <th>Low</th>\n",
       "      <th>Adj Close</th>\n",
       "      <th>Volume</th>\n",
       "      <th>Close</th>\n",
       "    </tr>\n",
       "  </thead>\n",
       "  <tbody>\n",
       "    <tr>\n",
       "      <th>0</th>\n",
       "      <td>-3.453526</td>\n",
       "      <td>-3.453526</td>\n",
       "      <td>-3.453526</td>\n",
       "      <td>-3.453526</td>\n",
       "      <td>-3.453526</td>\n",
       "      <td>-3.453526</td>\n",
       "    </tr>\n",
       "    <tr>\n",
       "      <th>1</th>\n",
       "      <td>-3.825772</td>\n",
       "      <td>-3.825772</td>\n",
       "      <td>-3.825772</td>\n",
       "      <td>-3.825772</td>\n",
       "      <td>-3.825772</td>\n",
       "      <td>-3.825772</td>\n",
       "    </tr>\n",
       "    <tr>\n",
       "      <th>2</th>\n",
       "      <td>-3.124081</td>\n",
       "      <td>-3.124081</td>\n",
       "      <td>-3.124081</td>\n",
       "      <td>-3.124081</td>\n",
       "      <td>-3.124081</td>\n",
       "      <td>-3.124081</td>\n",
       "    </tr>\n",
       "    <tr>\n",
       "      <th>3</th>\n",
       "      <td>-1.114334</td>\n",
       "      <td>-1.114334</td>\n",
       "      <td>-1.114334</td>\n",
       "      <td>-1.114334</td>\n",
       "      <td>-1.114334</td>\n",
       "      <td>-1.114334</td>\n",
       "    </tr>\n",
       "    <tr>\n",
       "      <th>4</th>\n",
       "      <td>-1.718198</td>\n",
       "      <td>-1.718198</td>\n",
       "      <td>-1.718198</td>\n",
       "      <td>-1.718198</td>\n",
       "      <td>-1.718198</td>\n",
       "      <td>-1.718198</td>\n",
       "    </tr>\n",
       "    <tr>\n",
       "      <th>...</th>\n",
       "      <td>...</td>\n",
       "      <td>...</td>\n",
       "      <td>...</td>\n",
       "      <td>...</td>\n",
       "      <td>...</td>\n",
       "      <td>...</td>\n",
       "    </tr>\n",
       "    <tr>\n",
       "      <th>78</th>\n",
       "      <td>-5.547033</td>\n",
       "      <td>-5.547033</td>\n",
       "      <td>-5.547033</td>\n",
       "      <td>-5.547033</td>\n",
       "      <td>-5.547033</td>\n",
       "      <td>-5.547033</td>\n",
       "    </tr>\n",
       "    <tr>\n",
       "      <th>79</th>\n",
       "      <td>-5.079125</td>\n",
       "      <td>-5.079125</td>\n",
       "      <td>-5.079125</td>\n",
       "      <td>-5.079125</td>\n",
       "      <td>-5.079125</td>\n",
       "      <td>-5.079125</td>\n",
       "    </tr>\n",
       "    <tr>\n",
       "      <th>80</th>\n",
       "      <td>-4.662657</td>\n",
       "      <td>-4.662657</td>\n",
       "      <td>-4.662657</td>\n",
       "      <td>-4.662657</td>\n",
       "      <td>-4.662657</td>\n",
       "      <td>-4.662657</td>\n",
       "    </tr>\n",
       "    <tr>\n",
       "      <th>81</th>\n",
       "      <td>-3.272813</td>\n",
       "      <td>-3.272813</td>\n",
       "      <td>-3.272813</td>\n",
       "      <td>-3.272813</td>\n",
       "      <td>-3.272813</td>\n",
       "      <td>-3.272813</td>\n",
       "    </tr>\n",
       "    <tr>\n",
       "      <th>82</th>\n",
       "      <td>-2.571917</td>\n",
       "      <td>-2.571917</td>\n",
       "      <td>-2.571917</td>\n",
       "      <td>-2.571917</td>\n",
       "      <td>-2.571917</td>\n",
       "      <td>-2.571917</td>\n",
       "    </tr>\n",
       "  </tbody>\n",
       "</table>\n",
       "<p>441 rows × 6 columns</p>\n",
       "</div>"
      ],
      "text/plain": [
       "        Open      High       Low  Adj Close    Volume     Close\n",
       "0  -3.453526 -3.453526 -3.453526  -3.453526 -3.453526 -3.453526\n",
       "1  -3.825772 -3.825772 -3.825772  -3.825772 -3.825772 -3.825772\n",
       "2  -3.124081 -3.124081 -3.124081  -3.124081 -3.124081 -3.124081\n",
       "3  -1.114334 -1.114334 -1.114334  -1.114334 -1.114334 -1.114334\n",
       "4  -1.718198 -1.718198 -1.718198  -1.718198 -1.718198 -1.718198\n",
       "..       ...       ...       ...        ...       ...       ...\n",
       "78 -5.547033 -5.547033 -5.547033  -5.547033 -5.547033 -5.547033\n",
       "79 -5.079125 -5.079125 -5.079125  -5.079125 -5.079125 -5.079125\n",
       "80 -4.662657 -4.662657 -4.662657  -4.662657 -4.662657 -4.662657\n",
       "81 -3.272813 -3.272813 -3.272813  -3.272813 -3.272813 -3.272813\n",
       "82 -2.571917 -2.571917 -2.571917  -2.571917 -2.571917 -2.571917\n",
       "\n",
       "[441 rows x 6 columns]"
      ]
     },
     "execution_count": 40,
     "metadata": {},
     "output_type": "execute_result"
    }
   ],
   "source": [
    "Y_df"
   ]
  },
  {
   "cell_type": "code",
   "execution_count": 44,
   "id": "e7168e07",
   "metadata": {},
   "outputs": [],
   "source": [
    "from pathlib import Path  \n",
    "filepath = Path('C:/Users/82422/OneDrive/internship/Optimal Lag/Data/Data.csv')\n",
    "filepath.parent.mkdir(parents=True, exist_ok=True)  \n",
    "Y_df.to_csv(filepath)"
   ]
  }
 ],
 "metadata": {
  "kernelspec": {
   "display_name": "Python 3 (ipykernel)",
   "language": "python",
   "name": "python3"
  },
  "language_info": {
   "codemirror_mode": {
    "name": "ipython",
    "version": 3
   },
   "file_extension": ".py",
   "mimetype": "text/x-python",
   "name": "python",
   "nbconvert_exporter": "python",
   "pygments_lexer": "ipython3",
   "version": "3.10.4"
  }
 },
 "nbformat": 4,
 "nbformat_minor": 5
}
