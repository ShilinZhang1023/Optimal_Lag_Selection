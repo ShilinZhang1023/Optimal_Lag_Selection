{
 "cells": [
  {
   "cell_type": "code",
   "execution_count": 1,
   "id": "b55950de",
   "metadata": {},
   "outputs": [],
   "source": [
    "\n",
    "# Author: Shilin Zhang\n",
    "# Created Date: 13 June 2022\n",
    "\n",
    "# Description:\n",
    "# Replication work of the paper: \n",
    "# Optimal selection of time lags for TDSEP based on genetic algorithm\n",
    "\n",
    "# Related Paper:\n",
    "# TDSEP - an efficient algorithm for blind separation using time structure\n",
    "\n",
    "# Method of determning the optimal lag: \n",
    "# Indenpendent Component Analysis (ICA)\n",
    "# Genetic Algorithm (GA)\n"
   ]
  },
  {
   "cell_type": "code",
   "execution_count": 2,
   "id": "c21875e6",
   "metadata": {},
   "outputs": [],
   "source": [
    "import pandas as pd\n",
    "import numpy as np\n",
    "import matplotlib.pyplot as plot\n",
    "import yfinance as yf\n",
    "from numpy.random import randint\n",
    "from numpy.random import rand"
   ]
  },
  {
   "cell_type": "code",
   "execution_count": 3,
   "id": "4fa410a8",
   "metadata": {},
   "outputs": [
    {
     "name": "stdout",
     "output_type": "stream",
     "text": [
      "[*********************100%***********************]  1 of 1 completed\n"
     ]
    }
   ],
   "source": [
    "# read the data from csv file\n",
    "startdate = '2020-01-01'\n",
    "enddate = '2022-01-01'\n",
    "datasource = 'SPY'\n",
    "data = yf.download(datasource,start = startdate,end = enddate)"
   ]
  },
  {
   "cell_type": "code",
   "execution_count": 4,
   "id": "6745ba7b",
   "metadata": {},
   "outputs": [
    {
     "data": {
      "text/html": [
       "<div>\n",
       "<style scoped>\n",
       "    .dataframe tbody tr th:only-of-type {\n",
       "        vertical-align: middle;\n",
       "    }\n",
       "\n",
       "    .dataframe tbody tr th {\n",
       "        vertical-align: top;\n",
       "    }\n",
       "\n",
       "    .dataframe thead th {\n",
       "        text-align: right;\n",
       "    }\n",
       "</style>\n",
       "<table border=\"1\" class=\"dataframe\">\n",
       "  <thead>\n",
       "    <tr style=\"text-align: right;\">\n",
       "      <th></th>\n",
       "      <th>Open</th>\n",
       "      <th>High</th>\n",
       "      <th>Low</th>\n",
       "      <th>Close</th>\n",
       "      <th>Adj Close</th>\n",
       "      <th>Volume</th>\n",
       "    </tr>\n",
       "    <tr>\n",
       "      <th>Date</th>\n",
       "      <th></th>\n",
       "      <th></th>\n",
       "      <th></th>\n",
       "      <th></th>\n",
       "      <th></th>\n",
       "      <th></th>\n",
       "    </tr>\n",
       "  </thead>\n",
       "  <tbody>\n",
       "    <tr>\n",
       "      <th>2020-01-02</th>\n",
       "      <td>323.540009</td>\n",
       "      <td>324.890015</td>\n",
       "      <td>322.529999</td>\n",
       "      <td>324.869995</td>\n",
       "      <td>313.744476</td>\n",
       "      <td>59151200</td>\n",
       "    </tr>\n",
       "    <tr>\n",
       "      <th>2020-01-03</th>\n",
       "      <td>321.160004</td>\n",
       "      <td>323.640015</td>\n",
       "      <td>321.100006</td>\n",
       "      <td>322.410004</td>\n",
       "      <td>311.368713</td>\n",
       "      <td>77709700</td>\n",
       "    </tr>\n",
       "    <tr>\n",
       "      <th>2020-01-06</th>\n",
       "      <td>320.489990</td>\n",
       "      <td>323.730011</td>\n",
       "      <td>320.359985</td>\n",
       "      <td>323.640015</td>\n",
       "      <td>312.556641</td>\n",
       "      <td>55653900</td>\n",
       "    </tr>\n",
       "    <tr>\n",
       "      <th>2020-01-07</th>\n",
       "      <td>323.019989</td>\n",
       "      <td>323.540009</td>\n",
       "      <td>322.239990</td>\n",
       "      <td>322.730011</td>\n",
       "      <td>311.677795</td>\n",
       "      <td>40496400</td>\n",
       "    </tr>\n",
       "    <tr>\n",
       "      <th>2020-01-08</th>\n",
       "      <td>322.940002</td>\n",
       "      <td>325.779999</td>\n",
       "      <td>322.670013</td>\n",
       "      <td>324.450012</td>\n",
       "      <td>313.338898</td>\n",
       "      <td>68296000</td>\n",
       "    </tr>\n",
       "    <tr>\n",
       "      <th>...</th>\n",
       "      <td>...</td>\n",
       "      <td>...</td>\n",
       "      <td>...</td>\n",
       "      <td>...</td>\n",
       "      <td>...</td>\n",
       "      <td>...</td>\n",
       "    </tr>\n",
       "    <tr>\n",
       "      <th>2021-12-27</th>\n",
       "      <td>472.059998</td>\n",
       "      <td>477.309998</td>\n",
       "      <td>472.010010</td>\n",
       "      <td>477.260010</td>\n",
       "      <td>475.781921</td>\n",
       "      <td>56808600</td>\n",
       "    </tr>\n",
       "    <tr>\n",
       "      <th>2021-12-28</th>\n",
       "      <td>477.720001</td>\n",
       "      <td>478.809998</td>\n",
       "      <td>476.059998</td>\n",
       "      <td>476.869995</td>\n",
       "      <td>475.393127</td>\n",
       "      <td>47274600</td>\n",
       "    </tr>\n",
       "    <tr>\n",
       "      <th>2021-12-29</th>\n",
       "      <td>476.980011</td>\n",
       "      <td>478.559998</td>\n",
       "      <td>475.920013</td>\n",
       "      <td>477.480011</td>\n",
       "      <td>476.001251</td>\n",
       "      <td>54503000</td>\n",
       "    </tr>\n",
       "    <tr>\n",
       "      <th>2021-12-30</th>\n",
       "      <td>477.929993</td>\n",
       "      <td>479.000000</td>\n",
       "      <td>475.670013</td>\n",
       "      <td>476.160004</td>\n",
       "      <td>474.685333</td>\n",
       "      <td>55329000</td>\n",
       "    </tr>\n",
       "    <tr>\n",
       "      <th>2021-12-31</th>\n",
       "      <td>475.640015</td>\n",
       "      <td>476.859985</td>\n",
       "      <td>474.670013</td>\n",
       "      <td>474.959991</td>\n",
       "      <td>473.489044</td>\n",
       "      <td>65237400</td>\n",
       "    </tr>\n",
       "  </tbody>\n",
       "</table>\n",
       "<p>505 rows × 6 columns</p>\n",
       "</div>"
      ],
      "text/plain": [
       "                  Open        High         Low       Close   Adj Close  \\\n",
       "Date                                                                     \n",
       "2020-01-02  323.540009  324.890015  322.529999  324.869995  313.744476   \n",
       "2020-01-03  321.160004  323.640015  321.100006  322.410004  311.368713   \n",
       "2020-01-06  320.489990  323.730011  320.359985  323.640015  312.556641   \n",
       "2020-01-07  323.019989  323.540009  322.239990  322.730011  311.677795   \n",
       "2020-01-08  322.940002  325.779999  322.670013  324.450012  313.338898   \n",
       "...                ...         ...         ...         ...         ...   \n",
       "2021-12-27  472.059998  477.309998  472.010010  477.260010  475.781921   \n",
       "2021-12-28  477.720001  478.809998  476.059998  476.869995  475.393127   \n",
       "2021-12-29  476.980011  478.559998  475.920013  477.480011  476.001251   \n",
       "2021-12-30  477.929993  479.000000  475.670013  476.160004  474.685333   \n",
       "2021-12-31  475.640015  476.859985  474.670013  474.959991  473.489044   \n",
       "\n",
       "              Volume  \n",
       "Date                  \n",
       "2020-01-02  59151200  \n",
       "2020-01-03  77709700  \n",
       "2020-01-06  55653900  \n",
       "2020-01-07  40496400  \n",
       "2020-01-08  68296000  \n",
       "...              ...  \n",
       "2021-12-27  56808600  \n",
       "2021-12-28  47274600  \n",
       "2021-12-29  54503000  \n",
       "2021-12-30  55329000  \n",
       "2021-12-31  65237400  \n",
       "\n",
       "[505 rows x 6 columns]"
      ]
     },
     "execution_count": 4,
     "metadata": {},
     "output_type": "execute_result"
    }
   ],
   "source": [
    "data"
   ]
  },
  {
   "cell_type": "code",
   "execution_count": 5,
   "id": "4efad8a9",
   "metadata": {},
   "outputs": [
    {
     "data": {
      "text/plain": [
       "<matplotlib.legend.Legend at 0x299f2195720>"
      ]
     },
     "execution_count": 5,
     "metadata": {},
     "output_type": "execute_result"
    },
    {
     "data": {
      "image/png": "[encoded data removed]",
      "text/plain": [
       "<Figure size 1800x360 with 1 Axes>"
      ]
     },
     "metadata": {
      "needs_background": "light"
     },
     "output_type": "display_data"
    }
   ],
   "source": [
    "plot.figure(figsize=(25,5))\n",
    "plot.plot(data['Close'],label='Close Price')\n",
    "plot.legend()"
   ]
  },
  {
   "cell_type": "code",
   "execution_count": 6,
   "id": "4172fe5c",
   "metadata": {},
   "outputs": [],
   "source": [
    "# observations matrix X\n",
    "\n",
    "from sklearn.preprocessing import MinMaxScaler\n",
    "\n",
    "cols = ['Open', 'High', 'Low', 'Close', 'Adj Close','Volume']\n",
    "mmscaler = MinMaxScaler()\n",
    "data[cols] = mmscaler.fit_transform(data[cols])\n",
    "X = data[cols].to_numpy()\n",
    "X = X.T"
   ]
  },
  {
   "cell_type": "code",
   "execution_count": 7,
   "id": "2daffc2a",
   "metadata": {
    "scrolled": true
   },
   "outputs": [
    {
     "data": {
      "text/plain": [
       "(6, 505)"
      ]
     },
     "execution_count": 7,
     "metadata": {},
     "output_type": "execute_result"
    }
   ],
   "source": [
    "X.shape"
   ]
  },
  {
   "cell_type": "code",
   "execution_count": 8,
   "id": "010a7ad6",
   "metadata": {},
   "outputs": [],
   "source": [
    "def center(x):\n",
    "    mean = np.mean(x, axis=1, keepdims=True)\n",
    "    centered =  x - mean\n",
    "    return centered, mean\n",
    "\n",
    "# calculate the covariance matrix of six observed time series\n",
    "def covariance(x):\n",
    "    mean = np.mean(x, axis=1, keepdims=True)\n",
    "    n = np.shape(x)[1] - 1\n",
    "    m = x - mean\n",
    "\n",
    "    return (m.dot(m.T))/n"
   ]
  },
  {
   "cell_type": "code",
   "execution_count": 9,
   "id": "22ba55d5",
   "metadata": {},
   "outputs": [],
   "source": [
    "def whiten(X):\n",
    "    # Calculate the covariance matrix\n",
    "    covarMatrix = covariance(X)\n",
    "\n",
    "    # Single value decoposition\n",
    "    U, S, V = np.linalg.svd(covarMatrix)\n",
    "\n",
    "    # Calculate diagonal matrix of eigenvalues\n",
    "    d = np.diag(1.0 / np.sqrt(S))\n",
    "\n",
    "    # Calculate whitening matrix\n",
    "    whiteM = np.dot(U, np.dot(d, U.T))\n",
    "\n",
    "    # Project onto whitening matrix\n",
    "    Z = np.dot(whiteM, X)\n",
    "\n",
    "    return Z, whiteM"
   ]
  },
  {
   "cell_type": "code",
   "execution_count": 10,
   "id": "a234c6eb",
   "metadata": {},
   "outputs": [],
   "source": [
    "X_center, meanX = center(X)"
   ]
  },
  {
   "cell_type": "code",
   "execution_count": 11,
   "id": "0cfbf136",
   "metadata": {
    "scrolled": true
   },
   "outputs": [
    {
     "data": {
      "text/plain": [
       "array([[-0.20034734, -0.20987728, -0.21256012, ...,  0.41405166,\n",
       "         0.41785555,  0.4086861 ],\n",
       "       [-0.20466752, -0.20968116, -0.20932019, ...,  0.41168888,\n",
       "         0.41345369,  0.40487029],\n",
       "       [-0.18833066, -0.19387757, -0.19674809, ...,  0.40666551,\n",
       "         0.40569577,  0.40181679],\n",
       "       [-0.19170205, -0.20136689, -0.19653441, ...,  0.40787367,\n",
       "         0.40268761,  0.39797299],\n",
       "       [-0.20621747, -0.21537544, -0.21079628, ...,  0.41924164,\n",
       "         0.41416911,  0.40955772],\n",
       "       [-0.07642214, -0.02568297, -0.0859838 , ..., -0.08913037,\n",
       "        -0.08687208, -0.05978239]])"
      ]
     },
     "execution_count": 11,
     "metadata": {},
     "output_type": "execute_result"
    }
   ],
   "source": [
    "X_center"
   ]
  },
  {
   "cell_type": "code",
   "execution_count": 12,
   "id": "90628770",
   "metadata": {
    "scrolled": true
   },
   "outputs": [],
   "source": [
    "Z,whiteM = whiten(X_center)"
   ]
  },
  {
   "cell_type": "code",
   "execution_count": 13,
   "id": "69b207eb",
   "metadata": {
    "scrolled": false
   },
   "outputs": [
    {
     "data": {
      "text/plain": [
       "array([[-0.39250154, -0.93448331, -1.13699064, ...,  0.55530779,\n",
       "         0.97691965,  0.62668208],\n",
       "       [-0.70725078, -0.42646585,  0.01689295, ...,  0.48353436,\n",
       "         0.92579179,  0.32013116],\n",
       "       [-0.05278459,  0.74919539, -0.29754214, ...,  0.98080689,\n",
       "         0.86700771,  1.56854364],\n",
       "       [ 1.07091175,  0.71955267,  1.14883805, ...,  0.0696418 ,\n",
       "        -0.41316832, -0.27855837],\n",
       "       [-1.95298927, -2.11130777, -1.8547162 , ...,  1.77309032,\n",
       "         1.48298178,  1.616665  ],\n",
       "       [-0.88431753, -0.49386736, -1.00093974, ...,  0.05731515,\n",
       "         0.04635925,  0.29182625]])"
      ]
     },
     "execution_count": 13,
     "metadata": {},
     "output_type": "execute_result"
    }
   ],
   "source": [
    "Z"
   ]
  },
  {
   "cell_type": "code",
   "execution_count": 14,
   "id": "0004fef9",
   "metadata": {},
   "outputs": [
    {
     "name": "stdout",
     "output_type": "stream",
     "text": [
      "[[ 1.  0. -0.  0. -0. -0.]\n",
      " [ 0.  1. -0.  0. -0. -0.]\n",
      " [-0. -0.  1. -0.  0.  0.]\n",
      " [ 0.  0. -0.  1. -0. -0.]\n",
      " [-0. -0.  0. -0.  1.  0.]\n",
      " [-0. -0.  0. -0.  0.  1.]]\n"
     ]
    }
   ],
   "source": [
    "print(np.round(covariance(Z)))"
   ]
  },
  {
   "cell_type": "code",
   "execution_count": 15,
   "id": "23080c5c",
   "metadata": {},
   "outputs": [
    {
     "data": {
      "text/plain": [
       "(6, 505)"
      ]
     },
     "execution_count": 15,
     "metadata": {},
     "output_type": "execute_result"
    }
   ],
   "source": [
    "Z.shape"
   ]
  },
  {
   "cell_type": "code",
   "execution_count": 16,
   "id": "baca6f94",
   "metadata": {},
   "outputs": [],
   "source": [
    "# Independent Component Analysis\n",
    "# X = S * A.T\n",
    "# By using ICA, we could approximate original signal matrix S\n",
    "\n",
    "from sklearn.decomposition import FastICA\n",
    "\n",
    "transformer = FastICA(n_components=6,\n",
    "                      random_state=0,\n",
    "                      whiten='unit-variance',\n",
    "                      fun='logcosh')\n",
    "S = transformer.fit_transform(X.T).T"
   ]
  },
  {
   "cell_type": "code",
   "execution_count": 17,
   "id": "756929c0",
   "metadata": {},
   "outputs": [
    {
     "data": {
      "text/plain": [
       "(6, 505)"
      ]
     },
     "execution_count": 17,
     "metadata": {},
     "output_type": "execute_result"
    }
   ],
   "source": [
    "S.shape"
   ]
  },
  {
   "cell_type": "code",
   "execution_count": 18,
   "id": "8b66ef89",
   "metadata": {},
   "outputs": [],
   "source": [
    "# Calculate Rotation Matrix Q\n",
    "\n",
    "# covariance matrix of Z with tau  = Q_T * covariance matrix of S with tau * Q\n",
    "# TDSEP - an efficient algorithm for blind separation using time structure\n",
    "\n",
    "# Calculate the average covariance matrix with a list of lags\n",
    "\n",
    "def covariance_with_lag(x,lag):\n",
    "    matrix = np.empty((6, 6), float)\n",
    "    for i in lag:\n",
    "        x1 = x[:,i:n]\n",
    "        x2 = x[:,0:n-lag]\n",
    "        mean1 = np.mean(x1, axis=1, keepdims=True)\n",
    "        mean1 = np.mean(x2, axis=1, keepdims=True)\n",
    "        n = np.shape(x1)[1] - 1\n",
    "        m1 = x1 - mean1\n",
    "        m2 = x2 - mean2\n",
    "        matrix = matrix + m1.dot(m2.T)/n\n",
    "    return matrix/len(lag)\n",
    "\n",
    "# Compute the orthogonal matrix Q via approximate simultaneous diagonalization\n",
    "\n",
    "def generate_Q(Z,lag):\n",
    "    # Set a fixed Q for testing\n",
    "    Q = np.array([[1,1,1,1,1,1],\n",
    "     [1,1,1,1,1,1],\n",
    "     [1,1,1,1,1,1],\n",
    "     [1,1,1,1,1,1],\n",
    "     [1,1,1,1,1,1],\n",
    "     [1,1,1,1,1,1]])\n",
    "    return Q"
   ]
  },
  {
   "cell_type": "code",
   "execution_count": 19,
   "id": "fd0da86c",
   "metadata": {},
   "outputs": [],
   "source": [
    "# Negentropy Estimation\n",
    "\n",
    "# One of the estimation function G1 \n",
    "def G(x):\n",
    "    return 1/a_1 * np.cosh(a_1 * x)\n",
    "\n",
    "def J(Y):\n",
    "    row,col = Y.shape\n",
    "    J = 0\n",
    "    for i in range(0,col):\n",
    "        sum1 = 0\n",
    "        sum2 = 0\n",
    "        for j in Y[:,i]:\n",
    "            sum1 = sum1 + G(j)\n",
    "            v = np.random.normal(0,1)\n",
    "            sum2 = sum2 + + G(v)\n",
    "        E_Y = sum1/row\n",
    "        E_V = sum2/row\n",
    "        J = J + (E_Y - E_V) ** 2\n",
    "    return J"
   ]
  },
  {
   "cell_type": "code",
   "execution_count": 20,
   "id": "9612c61f",
   "metadata": {},
   "outputs": [],
   "source": [
    "# genetic algorithm search for optimization problem\n",
    "\n",
    "\n",
    "# objective function\n",
    "def obj(x):\n",
    "    Q = generate_Q(Z,x)\n",
    "    Y = Q @ Z\n",
    "    result  = n_d * J(Y)/sum(x)\n",
    "    return -result\n",
    "\n",
    "# tournament selection\n",
    "def selection(pop, scores, k=3):\n",
    "    # first random selection\n",
    "    selection_ix = randint(len(pop))\n",
    "    for ix in randint(0, len(pop), k-1):\n",
    "        # check if better (e.g. perform a tournament)\n",
    "        if scores[ix] < scores[selection_ix]:\n",
    "            selection_ix = ix\n",
    "    return pop[selection_ix]\n",
    "\n",
    "# crossover two parents to create two children\n",
    "def crossover(p1, p2, r_cross):\n",
    "    # children are copies of parents by default\n",
    "    c1, c2 = p1.copy(), p2.copy()\n",
    "    # check for recombination\n",
    "    if rand() < r_cross:\n",
    "        # select crossover point that is not on the end of the string\n",
    "        pt = randint(1, len(p1)-2)\n",
    "        # perform crossover\n",
    "        c1 = p1[:pt] + p2[pt:]\n",
    "        c2 = p2[:pt] + p1[pt:]\n",
    "    return [c1, c2]\n",
    "\n",
    "# mutation operator\n",
    "def mutation(bitstring, r_mut):\n",
    "    for i in range(len(bitstring)):\n",
    "        # check for a mutation\n",
    "        if rand() < r_mut:\n",
    "            # flip the bit\n",
    "            bitstring[i] = 1 - bitstring[i]"
   ]
  },
  {
   "cell_type": "code",
   "execution_count": 21,
   "id": "196927e1",
   "metadata": {},
   "outputs": [],
   "source": [
    "# genetic algorithm\n",
    "\n",
    "def genetic_algorithm(objective, n_bits, n_iter, n_pop, r_cross, r_mut):\n",
    "    # initial population of random bitstring\n",
    "    pop = [randint(0, 2, n_bits).tolist() for _ in range(n_pop)]\n",
    "    # keep track of best solution\n",
    "    best, best_eval = 0, objective(pop[0])\n",
    "    # enumerate generations\n",
    "    for gen in range(n_iter):\n",
    "        # evaluate all candidates in the population\n",
    "        scores = [objective(c) for c in pop]\n",
    "        # check for new best solution\n",
    "        for i in range(n_pop):\n",
    "            if scores[i] < best_eval:\n",
    "                best, best_eval = pop[i], scores[i]\n",
    "                # print(\">%d, new best f(%s) = %.3f\" % (gen,  pop[i], scores[i]))\n",
    "                print(\"iteration: %d, number of lags: %d, score: %.3f\" %(gen, sum(pop[i]), scores[i]))\n",
    "        # select parents\n",
    "        selected = [selection(pop, scores) for _ in range(n_pop)]\n",
    "        # create the next generation\n",
    "        children = list()\n",
    "        for i in range(0, n_pop, 2):\n",
    "            # get selected parents in pairs\n",
    "            p1, p2 = selected[i], selected[i+1]\n",
    "            # crossover and mutation\n",
    "            for c in crossover(p1, p2, r_cross):\n",
    "                # mutation\n",
    "                mutation(c, r_mut)\n",
    "                # store for next generation\n",
    "                children.append(c)\n",
    "        # replace population\n",
    "        pop = children\n",
    "    return [best, best_eval]"
   ]
  },
  {
   "cell_type": "code",
   "execution_count": 22,
   "id": "c261532a",
   "metadata": {},
   "outputs": [],
   "source": [
    "# Parameter Setting\n",
    "\n",
    "# length of an individual/ maximum tau\n",
    "n_d = 100\n",
    "# number of generation\n",
    "n_g = 500\n",
    "# number of population\n",
    "n_p = 100\n",
    "# crossover prob\n",
    "p_c = 0.85\n",
    "# mutation prob\n",
    "p_m = 0.05\n",
    "\n",
    "# parameter for negentropy estimation\n",
    "a_1 = 1.5\n"
   ]
  },
  {
   "cell_type": "code",
   "execution_count": 23,
   "id": "6e42986f",
   "metadata": {
    "scrolled": true
   },
   "outputs": [
    {
     "name": "stdout",
     "output_type": "stream",
     "text": [
      "iteration: 0, number of lags: 49, score: -9140070.295\n",
      "iteration: 0, number of lags: 46, score: -9732543.324\n",
      "iteration: 0, number of lags: 44, score: -10211643.266\n",
      "iteration: 0, number of lags: 42, score: -10688511.132\n",
      "iteration: 0, number of lags: 41, score: -10936780.543\n",
      "iteration: 1, number of lags: 37, score: -12120956.372\n",
      "iteration: 2, number of lags: 36, score: -12468694.884\n",
      "iteration: 3, number of lags: 34, score: -13152678.689\n",
      "iteration: 3, number of lags: 32, score: -14009025.601\n",
      "iteration: 4, number of lags: 32, score: -14031410.069\n",
      "iteration: 5, number of lags: 31, score: -14490278.875\n",
      "iteration: 6, number of lags: 29, score: -15468748.955\n",
      "iteration: 8, number of lags: 28, score: -16037418.345\n",
      "iteration: 9, number of lags: 26, score: -17228453.092\n",
      "iteration: 10, number of lags: 25, score: -17930706.610\n",
      "iteration: 11, number of lags: 24, score: -18702936.884\n",
      "iteration: 11, number of lags: 22, score: -20377352.162\n",
      "iteration: 12, number of lags: 22, score: -20399170.521\n",
      "iteration: 12, number of lags: 19, score: -23589820.850\n",
      "iteration: 16, number of lags: 19, score: -23608543.904\n",
      "iteration: 17, number of lags: 19, score: -23608929.849\n",
      "iteration: 19, number of lags: 19, score: -23619656.543\n",
      "iteration: 26, number of lags: 18, score: -24839054.731\n",
      "iteration: 28, number of lags: 18, score: -24936869.720\n",
      "iteration: 29, number of lags: 14, score: -32081554.048\n",
      "iteration: 40, number of lags: 12, score: -37359296.929\n",
      "iteration: 135, number of lags: 11, score: -40740148.134\n",
      "iteration: 267, number of lags: 11, score: -40816630.534\n",
      "Done!\n",
      "f([0, 1, 0, 0, 0, 0, 0, 0, 0, 0, 0, 0, 1, 0, 0, 0, 0, 0, 1, 0, 0, 0, 0, 0, 0, 0, 0, 0, 0, 1, 1, 0, 0, 0, 0, 0, 0, 0, 0, 0, 0, 0, 0, 0, 0, 0, 0, 0, 0, 0, 0, 0, 0, 0, 1, 0, 0, 1, 0, 0, 0, 0, 0, 0, 0, 1, 0, 0, 0, 0, 0, 0, 0, 0, 0, 0, 0, 0, 0, 1, 0, 0, 0, 0, 0, 0, 0, 0, 0, 0, 0, 0, 0, 0, 0, 0, 1, 0, 1, 0]) = -40816630.533842\n"
     ]
    }
   ],
   "source": [
    "best, score = genetic_algorithm(obj, n_d, n_g, n_p, p_c, p_m)\n",
    "print('Done!')\n",
    "print('f(%s) = %f' % (best, score))"
   ]
  },
  {
   "cell_type": "code",
   "execution_count": 24,
   "id": "fda5970f",
   "metadata": {},
   "outputs": [
    {
     "data": {
      "text/plain": [
       "[2, 13, 19, 30, 31, 55, 58, 66, 80, 97, 99]"
      ]
     },
     "execution_count": 24,
     "metadata": {},
     "output_type": "execute_result"
    }
   ],
   "source": [
    "table = pd.DataFrame(best,columns = ['lag'])\n",
    "\n",
    "best_lag_list = []\n",
    "for i in range(0,100):\n",
    "    if table.iloc[i][0] == 1:\n",
    "        best_lag_list.append(i+1)\n",
    "        \n",
    "best_lag_list"
   ]
  }
 ],
 "metadata": {
  "kernelspec": {
   "display_name": "Python 3 (ipykernel)",
   "language": "python",
   "name": "python3"
  },
  "language_info": {
   "codemirror_mode": {
    "name": "ipython",
    "version": 3
   },
   "file_extension": ".py",
   "mimetype": "text/x-python",
   "name": "python",
   "nbconvert_exporter": "python",
   "pygments_lexer": "ipython3",
   "version": "3.10.4"
  }
 },
 "nbformat": 4,
 "nbformat_minor": 5
}
