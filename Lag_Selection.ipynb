{
 "cells": [
  {
   "cell_type": "code",
   "execution_count": 1,
   "id": "b55950de",
   "metadata": {},
   "outputs": [],
   "source": [
    "\n",
    "# Author: Shilin Zhang\n",
    "# Created Date: 13 June 2022\n",
    "\n",
    "# Description:\n",
    "# Replication work of the paper: \n",
    "# Optimal selection of time lags for TDSEP based on genetic algorithm\n",
    "\n",
    "# Related Paper:\n",
    "# TDSEP - an efficient algorithm for blind separation using time structure\n",
    "\n",
    "# Method of determning the optimal lag: \n",
    "# Indenpendent Component Analysis (ICA)\n",
    "# Genetic Algorithm (GA)\n"
   ]
  },
  {
   "cell_type": "code",
   "execution_count": 2,
   "id": "c21875e6",
   "metadata": {},
   "outputs": [],
   "source": [
    "import pandas as pd\n",
    "import numpy as np\n",
    "import matplotlib.pyplot as plot\n",
    "import yfinance as yf\n",
    "from numpy.random import randint\n",
    "from numpy.random import rand"
   ]
  },
  {
   "cell_type": "code",
   "execution_count": 3,
   "id": "4fa410a8",
   "metadata": {},
   "outputs": [
    {
     "name": "stdout",
     "output_type": "stream",
     "text": [
      "[*********************100%***********************]  1 of 1 completed\n"
     ]
    }
   ],
   "source": [
    "# read the data from yahoo finance\n",
    "\n",
    "startdate_training = '2012-04-01'\n",
    "# enddate_training = '2014-05-01' # short dataset for testing\n",
    "\n",
    "enddate_training = '2020-05-01'\n",
    "startdate_testing = '2020-05-01'\n",
    "enddate_testing = '2022-06-01'\n",
    "datasource = 'SPY'\n",
    "data = yf.download(datasource,start = startdate_training,end = enddate_training)"
   ]
  },
  {
   "cell_type": "code",
   "execution_count": 4,
   "id": "6745ba7b",
   "metadata": {},
   "outputs": [
    {
     "data": {
      "text/html": [
       "<div>\n",
       "<style scoped>\n",
       "    .dataframe tbody tr th:only-of-type {\n",
       "        vertical-align: middle;\n",
       "    }\n",
       "\n",
       "    .dataframe tbody tr th {\n",
       "        vertical-align: top;\n",
       "    }\n",
       "\n",
       "    .dataframe thead th {\n",
       "        text-align: right;\n",
       "    }\n",
       "</style>\n",
       "<table border=\"1\" class=\"dataframe\">\n",
       "  <thead>\n",
       "    <tr style=\"text-align: right;\">\n",
       "      <th></th>\n",
       "      <th>Open</th>\n",
       "      <th>High</th>\n",
       "      <th>Low</th>\n",
       "      <th>Close</th>\n",
       "      <th>Adj Close</th>\n",
       "      <th>Volume</th>\n",
       "    </tr>\n",
       "    <tr>\n",
       "      <th>Date</th>\n",
       "      <th></th>\n",
       "      <th></th>\n",
       "      <th></th>\n",
       "      <th></th>\n",
       "      <th></th>\n",
       "      <th></th>\n",
       "    </tr>\n",
       "  </thead>\n",
       "  <tbody>\n",
       "    <tr>\n",
       "      <th>2012-04-02</th>\n",
       "      <td>140.639999</td>\n",
       "      <td>142.210007</td>\n",
       "      <td>140.360001</td>\n",
       "      <td>141.839996</td>\n",
       "      <td>116.762009</td>\n",
       "      <td>151741100</td>\n",
       "    </tr>\n",
       "    <tr>\n",
       "      <th>2012-04-03</th>\n",
       "      <td>141.639999</td>\n",
       "      <td>141.880005</td>\n",
       "      <td>140.429993</td>\n",
       "      <td>141.259995</td>\n",
       "      <td>116.284531</td>\n",
       "      <td>155806700</td>\n",
       "    </tr>\n",
       "    <tr>\n",
       "      <th>2012-04-04</th>\n",
       "      <td>140.220001</td>\n",
       "      <td>140.339996</td>\n",
       "      <td>139.339996</td>\n",
       "      <td>139.860001</td>\n",
       "      <td>115.132072</td>\n",
       "      <td>146896000</td>\n",
       "    </tr>\n",
       "    <tr>\n",
       "      <th>2012-04-05</th>\n",
       "      <td>139.380005</td>\n",
       "      <td>140.199997</td>\n",
       "      <td>139.259995</td>\n",
       "      <td>139.789993</td>\n",
       "      <td>115.074417</td>\n",
       "      <td>137439400</td>\n",
       "    </tr>\n",
       "    <tr>\n",
       "      <th>2012-04-09</th>\n",
       "      <td>138.029999</td>\n",
       "      <td>139.839996</td>\n",
       "      <td>137.839996</td>\n",
       "      <td>138.220001</td>\n",
       "      <td>113.782043</td>\n",
       "      <td>127555900</td>\n",
       "    </tr>\n",
       "    <tr>\n",
       "      <th>...</th>\n",
       "      <td>...</td>\n",
       "      <td>...</td>\n",
       "      <td>...</td>\n",
       "      <td>...</td>\n",
       "      <td>...</td>\n",
       "      <td>...</td>\n",
       "    </tr>\n",
       "    <tr>\n",
       "      <th>2020-04-24</th>\n",
       "      <td>280.730011</td>\n",
       "      <td>283.700012</td>\n",
       "      <td>278.500000</td>\n",
       "      <td>282.970001</td>\n",
       "      <td>273.704010</td>\n",
       "      <td>85063200</td>\n",
       "    </tr>\n",
       "    <tr>\n",
       "      <th>2020-04-27</th>\n",
       "      <td>285.119995</td>\n",
       "      <td>288.269989</td>\n",
       "      <td>284.619995</td>\n",
       "      <td>287.049988</td>\n",
       "      <td>277.650452</td>\n",
       "      <td>77896600</td>\n",
       "    </tr>\n",
       "    <tr>\n",
       "      <th>2020-04-28</th>\n",
       "      <td>291.019989</td>\n",
       "      <td>291.399994</td>\n",
       "      <td>285.399994</td>\n",
       "      <td>285.730011</td>\n",
       "      <td>276.373688</td>\n",
       "      <td>105270000</td>\n",
       "    </tr>\n",
       "    <tr>\n",
       "      <th>2020-04-29</th>\n",
       "      <td>291.529999</td>\n",
       "      <td>294.880005</td>\n",
       "      <td>290.410004</td>\n",
       "      <td>293.209991</td>\n",
       "      <td>283.608734</td>\n",
       "      <td>118745600</td>\n",
       "    </tr>\n",
       "    <tr>\n",
       "      <th>2020-04-30</th>\n",
       "      <td>291.709991</td>\n",
       "      <td>293.320007</td>\n",
       "      <td>288.589996</td>\n",
       "      <td>290.480011</td>\n",
       "      <td>280.968140</td>\n",
       "      <td>122901700</td>\n",
       "    </tr>\n",
       "  </tbody>\n",
       "</table>\n",
       "<p>2033 rows × 6 columns</p>\n",
       "</div>"
      ],
      "text/plain": [
       "                  Open        High         Low       Close   Adj Close  \\\n",
       "Date                                                                     \n",
       "2012-04-02  140.639999  142.210007  140.360001  141.839996  116.762009   \n",
       "2012-04-03  141.639999  141.880005  140.429993  141.259995  116.284531   \n",
       "2012-04-04  140.220001  140.339996  139.339996  139.860001  115.132072   \n",
       "2012-04-05  139.380005  140.199997  139.259995  139.789993  115.074417   \n",
       "2012-04-09  138.029999  139.839996  137.839996  138.220001  113.782043   \n",
       "...                ...         ...         ...         ...         ...   \n",
       "2020-04-24  280.730011  283.700012  278.500000  282.970001  273.704010   \n",
       "2020-04-27  285.119995  288.269989  284.619995  287.049988  277.650452   \n",
       "2020-04-28  291.019989  291.399994  285.399994  285.730011  276.373688   \n",
       "2020-04-29  291.529999  294.880005  290.410004  293.209991  283.608734   \n",
       "2020-04-30  291.709991  293.320007  288.589996  290.480011  280.968140   \n",
       "\n",
       "               Volume  \n",
       "Date                   \n",
       "2012-04-02  151741100  \n",
       "2012-04-03  155806700  \n",
       "2012-04-04  146896000  \n",
       "2012-04-05  137439400  \n",
       "2012-04-09  127555900  \n",
       "...               ...  \n",
       "2020-04-24   85063200  \n",
       "2020-04-27   77896600  \n",
       "2020-04-28  105270000  \n",
       "2020-04-29  118745600  \n",
       "2020-04-30  122901700  \n",
       "\n",
       "[2033 rows x 6 columns]"
      ]
     },
     "execution_count": 4,
     "metadata": {},
     "output_type": "execute_result"
    }
   ],
   "source": [
    "data"
   ]
  },
  {
   "cell_type": "code",
   "execution_count": 5,
   "id": "d81c63b8",
   "metadata": {},
   "outputs": [
    {
     "data": {
      "image/png": "[encoded data removed]",
      "text/plain": [
       "<Figure size 2160x360 with 1 Axes>"
      ]
     },
     "metadata": {
      "needs_background": "light"
     },
     "output_type": "display_data"
    }
   ],
   "source": [
    "data.plot(y = ['Close','Open','High','Low'], kind = 'line',figsize=(30,5))\n",
    "plot.show()"
   ]
  },
  {
   "cell_type": "code",
   "execution_count": 6,
   "id": "05ce3411",
   "metadata": {
    "scrolled": false
   },
   "outputs": [
    {
     "data": {
      "text/html": [
       "<div>\n",
       "<style scoped>\n",
       "    .dataframe tbody tr th:only-of-type {\n",
       "        vertical-align: middle;\n",
       "    }\n",
       "\n",
       "    .dataframe tbody tr th {\n",
       "        vertical-align: top;\n",
       "    }\n",
       "\n",
       "    .dataframe thead th {\n",
       "        text-align: right;\n",
       "    }\n",
       "</style>\n",
       "<table border=\"1\" class=\"dataframe\">\n",
       "  <thead>\n",
       "    <tr style=\"text-align: right;\">\n",
       "      <th></th>\n",
       "      <th>Open</th>\n",
       "      <th>High</th>\n",
       "      <th>Low</th>\n",
       "      <th>Close</th>\n",
       "      <th>Adj Close</th>\n",
       "      <th>Volume</th>\n",
       "    </tr>\n",
       "  </thead>\n",
       "  <tbody>\n",
       "    <tr>\n",
       "      <th>Open</th>\n",
       "      <td>1.000000</td>\n",
       "      <td>0.999662</td>\n",
       "      <td>0.999617</td>\n",
       "      <td>0.999442</td>\n",
       "      <td>0.998220</td>\n",
       "      <td>-0.382798</td>\n",
       "    </tr>\n",
       "    <tr>\n",
       "      <th>High</th>\n",
       "      <td>0.999662</td>\n",
       "      <td>1.000000</td>\n",
       "      <td>0.999207</td>\n",
       "      <td>0.999555</td>\n",
       "      <td>0.998749</td>\n",
       "      <td>-0.370167</td>\n",
       "    </tr>\n",
       "    <tr>\n",
       "      <th>Low</th>\n",
       "      <td>0.999617</td>\n",
       "      <td>0.999207</td>\n",
       "      <td>1.000000</td>\n",
       "      <td>0.999609</td>\n",
       "      <td>0.997955</td>\n",
       "      <td>-0.398896</td>\n",
       "    </tr>\n",
       "    <tr>\n",
       "      <th>Close</th>\n",
       "      <td>0.999442</td>\n",
       "      <td>0.999555</td>\n",
       "      <td>0.999609</td>\n",
       "      <td>1.000000</td>\n",
       "      <td>0.998733</td>\n",
       "      <td>-0.387055</td>\n",
       "    </tr>\n",
       "    <tr>\n",
       "      <th>Adj Close</th>\n",
       "      <td>0.998220</td>\n",
       "      <td>0.998749</td>\n",
       "      <td>0.997955</td>\n",
       "      <td>0.998733</td>\n",
       "      <td>1.000000</td>\n",
       "      <td>-0.372172</td>\n",
       "    </tr>\n",
       "    <tr>\n",
       "      <th>Volume</th>\n",
       "      <td>-0.382798</td>\n",
       "      <td>-0.370167</td>\n",
       "      <td>-0.398896</td>\n",
       "      <td>-0.387055</td>\n",
       "      <td>-0.372172</td>\n",
       "      <td>1.000000</td>\n",
       "    </tr>\n",
       "  </tbody>\n",
       "</table>\n",
       "</div>"
      ],
      "text/plain": [
       "               Open      High       Low     Close  Adj Close    Volume\n",
       "Open       1.000000  0.999662  0.999617  0.999442   0.998220 -0.382798\n",
       "High       0.999662  1.000000  0.999207  0.999555   0.998749 -0.370167\n",
       "Low        0.999617  0.999207  1.000000  0.999609   0.997955 -0.398896\n",
       "Close      0.999442  0.999555  0.999609  1.000000   0.998733 -0.387055\n",
       "Adj Close  0.998220  0.998749  0.997955  0.998733   1.000000 -0.372172\n",
       "Volume    -0.382798 -0.370167 -0.398896 -0.387055  -0.372172  1.000000"
      ]
     },
     "execution_count": 6,
     "metadata": {},
     "output_type": "execute_result"
    }
   ],
   "source": [
    "# Showing that there is a data leakage in stock price dataset\n",
    "\n",
    "data.corr()"
   ]
  },
  {
   "cell_type": "code",
   "execution_count": 7,
   "id": "67ba8c71",
   "metadata": {},
   "outputs": [],
   "source": [
    "def data_shift(data,target):\n",
    "    data_shifted = data.drop([target],axis=1).shift()\n",
    "    data_preprocessed = pd.concat([data_shifted,data[target]], axis=1)\n",
    "    data_preprocessed.dropna(inplace=True)\n",
    "    return data_preprocessed"
   ]
  },
  {
   "cell_type": "code",
   "execution_count": 8,
   "id": "4e712547",
   "metadata": {},
   "outputs": [
    {
     "data": {
      "text/html": [
       "<div>\n",
       "<style scoped>\n",
       "    .dataframe tbody tr th:only-of-type {\n",
       "        vertical-align: middle;\n",
       "    }\n",
       "\n",
       "    .dataframe tbody tr th {\n",
       "        vertical-align: top;\n",
       "    }\n",
       "\n",
       "    .dataframe thead th {\n",
       "        text-align: right;\n",
       "    }\n",
       "</style>\n",
       "<table border=\"1\" class=\"dataframe\">\n",
       "  <thead>\n",
       "    <tr style=\"text-align: right;\">\n",
       "      <th></th>\n",
       "      <th>Open</th>\n",
       "      <th>High</th>\n",
       "      <th>Low</th>\n",
       "      <th>Adj Close</th>\n",
       "      <th>Volume</th>\n",
       "      <th>Close</th>\n",
       "    </tr>\n",
       "    <tr>\n",
       "      <th>Date</th>\n",
       "      <th></th>\n",
       "      <th></th>\n",
       "      <th></th>\n",
       "      <th></th>\n",
       "      <th></th>\n",
       "      <th></th>\n",
       "    </tr>\n",
       "  </thead>\n",
       "  <tbody>\n",
       "    <tr>\n",
       "      <th>2012-04-03</th>\n",
       "      <td>140.639999</td>\n",
       "      <td>142.210007</td>\n",
       "      <td>140.360001</td>\n",
       "      <td>116.762009</td>\n",
       "      <td>151741100.0</td>\n",
       "      <td>141.259995</td>\n",
       "    </tr>\n",
       "    <tr>\n",
       "      <th>2012-04-04</th>\n",
       "      <td>141.639999</td>\n",
       "      <td>141.880005</td>\n",
       "      <td>140.429993</td>\n",
       "      <td>116.284531</td>\n",
       "      <td>155806700.0</td>\n",
       "      <td>139.860001</td>\n",
       "    </tr>\n",
       "    <tr>\n",
       "      <th>2012-04-05</th>\n",
       "      <td>140.220001</td>\n",
       "      <td>140.339996</td>\n",
       "      <td>139.339996</td>\n",
       "      <td>115.132072</td>\n",
       "      <td>146896000.0</td>\n",
       "      <td>139.789993</td>\n",
       "    </tr>\n",
       "    <tr>\n",
       "      <th>2012-04-09</th>\n",
       "      <td>139.380005</td>\n",
       "      <td>140.199997</td>\n",
       "      <td>139.259995</td>\n",
       "      <td>115.074417</td>\n",
       "      <td>137439400.0</td>\n",
       "      <td>138.220001</td>\n",
       "    </tr>\n",
       "    <tr>\n",
       "      <th>2012-04-10</th>\n",
       "      <td>138.029999</td>\n",
       "      <td>139.839996</td>\n",
       "      <td>137.839996</td>\n",
       "      <td>113.782043</td>\n",
       "      <td>127555900.0</td>\n",
       "      <td>135.899994</td>\n",
       "    </tr>\n",
       "    <tr>\n",
       "      <th>...</th>\n",
       "      <td>...</td>\n",
       "      <td>...</td>\n",
       "      <td>...</td>\n",
       "      <td>...</td>\n",
       "      <td>...</td>\n",
       "      <td>...</td>\n",
       "    </tr>\n",
       "    <tr>\n",
       "      <th>2020-04-24</th>\n",
       "      <td>280.489990</td>\n",
       "      <td>283.940002</td>\n",
       "      <td>278.750000</td>\n",
       "      <td>269.941406</td>\n",
       "      <td>104709700.0</td>\n",
       "      <td>282.970001</td>\n",
       "    </tr>\n",
       "    <tr>\n",
       "      <th>2020-04-27</th>\n",
       "      <td>280.730011</td>\n",
       "      <td>283.700012</td>\n",
       "      <td>278.500000</td>\n",
       "      <td>273.704010</td>\n",
       "      <td>85063200.0</td>\n",
       "      <td>287.049988</td>\n",
       "    </tr>\n",
       "    <tr>\n",
       "      <th>2020-04-28</th>\n",
       "      <td>285.119995</td>\n",
       "      <td>288.269989</td>\n",
       "      <td>284.619995</td>\n",
       "      <td>277.650452</td>\n",
       "      <td>77896600.0</td>\n",
       "      <td>285.730011</td>\n",
       "    </tr>\n",
       "    <tr>\n",
       "      <th>2020-04-29</th>\n",
       "      <td>291.019989</td>\n",
       "      <td>291.399994</td>\n",
       "      <td>285.399994</td>\n",
       "      <td>276.373688</td>\n",
       "      <td>105270000.0</td>\n",
       "      <td>293.209991</td>\n",
       "    </tr>\n",
       "    <tr>\n",
       "      <th>2020-04-30</th>\n",
       "      <td>291.529999</td>\n",
       "      <td>294.880005</td>\n",
       "      <td>290.410004</td>\n",
       "      <td>283.608734</td>\n",
       "      <td>118745600.0</td>\n",
       "      <td>290.480011</td>\n",
       "    </tr>\n",
       "  </tbody>\n",
       "</table>\n",
       "<p>2032 rows × 6 columns</p>\n",
       "</div>"
      ],
      "text/plain": [
       "                  Open        High         Low   Adj Close       Volume  \\\n",
       "Date                                                                      \n",
       "2012-04-03  140.639999  142.210007  140.360001  116.762009  151741100.0   \n",
       "2012-04-04  141.639999  141.880005  140.429993  116.284531  155806700.0   \n",
       "2012-04-05  140.220001  140.339996  139.339996  115.132072  146896000.0   \n",
       "2012-04-09  139.380005  140.199997  139.259995  115.074417  137439400.0   \n",
       "2012-04-10  138.029999  139.839996  137.839996  113.782043  127555900.0   \n",
       "...                ...         ...         ...         ...          ...   \n",
       "2020-04-24  280.489990  283.940002  278.750000  269.941406  104709700.0   \n",
       "2020-04-27  280.730011  283.700012  278.500000  273.704010   85063200.0   \n",
       "2020-04-28  285.119995  288.269989  284.619995  277.650452   77896600.0   \n",
       "2020-04-29  291.019989  291.399994  285.399994  276.373688  105270000.0   \n",
       "2020-04-30  291.529999  294.880005  290.410004  283.608734  118745600.0   \n",
       "\n",
       "                 Close  \n",
       "Date                    \n",
       "2012-04-03  141.259995  \n",
       "2012-04-04  139.860001  \n",
       "2012-04-05  139.789993  \n",
       "2012-04-09  138.220001  \n",
       "2012-04-10  135.899994  \n",
       "...                ...  \n",
       "2020-04-24  282.970001  \n",
       "2020-04-27  287.049988  \n",
       "2020-04-28  285.730011  \n",
       "2020-04-29  293.209991  \n",
       "2020-04-30  290.480011  \n",
       "\n",
       "[2032 rows x 6 columns]"
      ]
     },
     "execution_count": 8,
     "metadata": {},
     "output_type": "execute_result"
    }
   ],
   "source": [
    "data_preprocessed = data_shift(data,'Close')\n",
    "data_preprocessed"
   ]
  },
  {
   "cell_type": "code",
   "execution_count": 9,
   "id": "1dcdb79d",
   "metadata": {},
   "outputs": [
    {
     "data": {
      "text/html": [
       "<div>\n",
       "<style scoped>\n",
       "    .dataframe tbody tr th:only-of-type {\n",
       "        vertical-align: middle;\n",
       "    }\n",
       "\n",
       "    .dataframe tbody tr th {\n",
       "        vertical-align: top;\n",
       "    }\n",
       "\n",
       "    .dataframe thead th {\n",
       "        text-align: right;\n",
       "    }\n",
       "</style>\n",
       "<table border=\"1\" class=\"dataframe\">\n",
       "  <thead>\n",
       "    <tr style=\"text-align: right;\">\n",
       "      <th></th>\n",
       "      <th>Open</th>\n",
       "      <th>High</th>\n",
       "      <th>Low</th>\n",
       "      <th>Adj Close</th>\n",
       "      <th>Volume</th>\n",
       "      <th>Close</th>\n",
       "    </tr>\n",
       "  </thead>\n",
       "  <tbody>\n",
       "    <tr>\n",
       "      <th>Open</th>\n",
       "      <td>1.000000</td>\n",
       "      <td>0.999661</td>\n",
       "      <td>0.999617</td>\n",
       "      <td>0.998221</td>\n",
       "      <td>-0.383218</td>\n",
       "      <td>0.998417</td>\n",
       "    </tr>\n",
       "    <tr>\n",
       "      <th>High</th>\n",
       "      <td>0.999661</td>\n",
       "      <td>1.000000</td>\n",
       "      <td>0.999207</td>\n",
       "      <td>0.998750</td>\n",
       "      <td>-0.370582</td>\n",
       "      <td>0.998487</td>\n",
       "    </tr>\n",
       "    <tr>\n",
       "      <th>Low</th>\n",
       "      <td>0.999617</td>\n",
       "      <td>0.999207</td>\n",
       "      <td>1.000000</td>\n",
       "      <td>0.997957</td>\n",
       "      <td>-0.399311</td>\n",
       "      <td>0.998618</td>\n",
       "    </tr>\n",
       "    <tr>\n",
       "      <th>Adj Close</th>\n",
       "      <td>0.998221</td>\n",
       "      <td>0.998750</td>\n",
       "      <td>0.997957</td>\n",
       "      <td>1.000000</td>\n",
       "      <td>-0.372630</td>\n",
       "      <td>0.997669</td>\n",
       "    </tr>\n",
       "    <tr>\n",
       "      <th>Volume</th>\n",
       "      <td>-0.383218</td>\n",
       "      <td>-0.370582</td>\n",
       "      <td>-0.399311</td>\n",
       "      <td>-0.372630</td>\n",
       "      <td>1.000000</td>\n",
       "      <td>-0.387256</td>\n",
       "    </tr>\n",
       "    <tr>\n",
       "      <th>Close</th>\n",
       "      <td>0.998417</td>\n",
       "      <td>0.998487</td>\n",
       "      <td>0.998618</td>\n",
       "      <td>0.997669</td>\n",
       "      <td>-0.387256</td>\n",
       "      <td>1.000000</td>\n",
       "    </tr>\n",
       "  </tbody>\n",
       "</table>\n",
       "</div>"
      ],
      "text/plain": [
       "               Open      High       Low  Adj Close    Volume     Close\n",
       "Open       1.000000  0.999661  0.999617   0.998221 -0.383218  0.998417\n",
       "High       0.999661  1.000000  0.999207   0.998750 -0.370582  0.998487\n",
       "Low        0.999617  0.999207  1.000000   0.997957 -0.399311  0.998618\n",
       "Adj Close  0.998221  0.998750  0.997957   1.000000 -0.372630  0.997669\n",
       "Volume    -0.383218 -0.370582 -0.399311  -0.372630  1.000000 -0.387256\n",
       "Close      0.998417  0.998487  0.998618   0.997669 -0.387256  1.000000"
      ]
     },
     "execution_count": 9,
     "metadata": {},
     "output_type": "execute_result"
    }
   ],
   "source": [
    "# Showing that there still exists high correlation between feature lagged values\n",
    "\n",
    "data_preprocessed.corr()"
   ]
  },
  {
   "cell_type": "code",
   "execution_count": 10,
   "id": "4172fe5c",
   "metadata": {},
   "outputs": [],
   "source": [
    "# observations matrix X\n",
    "from sklearn.preprocessing import MinMaxScaler\n",
    "\n",
    "mmscaler = MinMaxScaler()\n",
    "X = mmscaler.fit_transform(data_preprocessed).T"
   ]
  },
  {
   "cell_type": "code",
   "execution_count": 11,
   "id": "010a7ad6",
   "metadata": {},
   "outputs": [],
   "source": [
    "def center(x):\n",
    "    mean = np.mean(x, axis=1, keepdims=True)\n",
    "    centered =  x - mean\n",
    "    return centered\n",
    "\n",
    "# calculate the covariance matrix of six observed time series\n",
    "# def covariance(x):\n",
    "#     mean = np.mean(x, axis=1, keepdims=True)\n",
    "#     n = np.shape(x)[1] - 1\n",
    "#     m = x - mean\n",
    "\n",
    "#     return (m.dot(m.T))/n"
   ]
  },
  {
   "cell_type": "code",
   "execution_count": 12,
   "id": "22ba55d5",
   "metadata": {},
   "outputs": [],
   "source": [
    "# Materials related to whitening transformation\n",
    "\n",
    "# https://learndataa.com/2020/09/15/data-preprocessing-whitening-or-sphering-in-python/\n",
    "    \n",
    "def whiten(X):\n",
    "    # Calculate the covariance matrix using PCA\n",
    "    covarMatrix = np.cov(X)\n",
    "\n",
    "    # Single value decomposition\n",
    "    V, S, U = np.linalg.svd(covarMatrix)\n",
    "\n",
    "    # Calculate diagonal matrix of eigenvalues\n",
    "    d = np.diag(1.0 / np.sqrt(S))\n",
    "\n",
    "    # Calculate whitening matrix\n",
    "    whiteM =  np.dot(d, V.T)\n",
    "\n",
    "    # Project onto whitening matrix\n",
    "    Z = np.dot(whiteM, X)\n",
    "\n",
    "    return Z, whiteM"
   ]
  },
  {
   "cell_type": "code",
   "execution_count": 13,
   "id": "a234c6eb",
   "metadata": {},
   "outputs": [],
   "source": [
    "X_center = center(X)"
   ]
  },
  {
   "cell_type": "code",
   "execution_count": 14,
   "id": "90628770",
   "metadata": {
    "scrolled": true
   },
   "outputs": [],
   "source": [
    "Z,whiteM = whiten(X_center)"
   ]
  },
  {
   "cell_type": "code",
   "execution_count": 15,
   "id": "0004fef9",
   "metadata": {
    "scrolled": true
   },
   "outputs": [
    {
     "name": "stdout",
     "output_type": "stream",
     "text": [
      "[[ 1.  0.  0. -0. -0.  0.]\n",
      " [ 0.  1.  0. -0.  0. -0.]\n",
      " [ 0.  0.  1. -0. -0.  0.]\n",
      " [-0. -0. -0.  1.  0. -0.]\n",
      " [-0.  0. -0.  0.  1.  0.]\n",
      " [ 0. -0.  0. -0.  0.  1.]]\n"
     ]
    }
   ],
   "source": [
    "print(np.round(np.cov(Z)))"
   ]
  },
  {
   "cell_type": "code",
   "execution_count": 16,
   "id": "23080c5c",
   "metadata": {
    "scrolled": true
   },
   "outputs": [
    {
     "data": {
      "text/plain": [
       "(6, 2032)"
      ]
     },
     "execution_count": 16,
     "metadata": {},
     "output_type": "execute_result"
    }
   ],
   "source": [
    "Z.shape"
   ]
  },
  {
   "cell_type": "code",
   "execution_count": 17,
   "id": "8b66ef89",
   "metadata": {},
   "outputs": [],
   "source": [
    "# Calculate Rotation Matrix Q\n",
    "from scipy.linalg import eig\n",
    "\n",
    "# covariance matrix of Z with tau  = Q_T * covariance matrix of S with tau * Q\n",
    "# TDSEP - an efficient algorithm for blind separation using time structure\n",
    "\n",
    "# Calculate the average covariance matrix with a list of lags\n",
    "\n",
    "def covarMatrix_with_lags(x,lags):\n",
    "    m,n = x.shape\n",
    "    matrix = np.empty((m,m), float)\n",
    "    for i in lags:\n",
    "        x1 = x[:,i:n]\n",
    "        x2 = x[:,0:n-i]\n",
    "        mean1 = np.mean(x1, axis=1, keepdims=True)\n",
    "        mean2 = np.mean(x2, axis=1, keepdims=True)\n",
    "        num = np.shape(x1)[1] - 1\n",
    "        m1 = x1 - mean1\n",
    "        m2 = x2 - mean2\n",
    "        covarMatrix = m1.dot(m2.T)/num\n",
    "        matrix = matrix +  covarMatrix\n",
    "    return matrix/len(lags)\n",
    "\n",
    "# Compute the orthogonal matrix Q via approximate simultaneous diagonalization\n",
    "\n",
    "# def generate_Q(Z,lags):\n",
    "#     lambda_Z = covarMatrix_with_lags(Z,lags)\n",
    "#     eigs,w = eig(lambda_Z)\n",
    "#     Q = np.real(w.T)\n",
    "#     return Q\n",
    "\n",
    "def generate_Q(Z,lags):\n",
    "    \n",
    "    lambda_Z = covarMatrix_with_lags(Z,lags)\n",
    "    vals, vecs = eig(lambda_Z)\n",
    "    Q = np.real(vecs.T)\n",
    "\n",
    "#     Q = np.array([[1,0,0,0,0,0],\n",
    "#      [0,1,0,0,0,0],\n",
    "#      [0,0,1,0,0,0],\n",
    "#      [0,0,0,1,0,0],\n",
    "#      [0,0,0,0,1,0],\n",
    "#      [0,0,0,0,0,1]])\n",
    "\n",
    "    return Q"
   ]
  },
  {
   "cell_type": "code",
   "execution_count": 19,
   "id": "d4d275a0",
   "metadata": {},
   "outputs": [],
   "source": [
    "# lambda_Z = covarMatrix_with_lags(Z,[2,3,8])\n",
    "\n",
    "# lambda_Z"
   ]
  },
  {
   "cell_type": "code",
   "execution_count": 20,
   "id": "513203fc",
   "metadata": {
    "scrolled": false
   },
   "outputs": [],
   "source": [
    "#Test the generate_Q function\n",
    "\n",
    "# Q = generate_Q(Z,[2,3,5])\n",
    "# Y = Q @ Z\n",
    "# np.round(np.cov(Y))"
   ]
  },
  {
   "cell_type": "code",
   "execution_count": 21,
   "id": "48358426",
   "metadata": {},
   "outputs": [],
   "source": [
    "# print(np.linalg.det(np.round(np.cov(Y))))\n",
    "# print(np.linalg.det(np.cov(Y)))"
   ]
  },
  {
   "cell_type": "code",
   "execution_count": 18,
   "id": "fd0da86c",
   "metadata": {},
   "outputs": [],
   "source": [
    "# Negentropy Estimation\n",
    "\n",
    "# One of the estimation function G1 \n",
    "def G(x):\n",
    "    return 1/a_1 * np.cosh(a_1 * x)\n",
    "\n",
    "def J(Y):\n",
    "    row,col = Y.shape\n",
    "    J = 0\n",
    "    for i in range(0,row):\n",
    "        sum1 = 0\n",
    "        sum2 = 0\n",
    "        for j in range(0,col):\n",
    "            sum1 = sum1 + G(Y[i][j])\n",
    "            v = np.random.normal(0,1)\n",
    "            sum2 = sum2 +  G(v)\n",
    "        J = J + ((sum1 - sum2)/col) ** 2\n",
    "    return J"
   ]
  },
  {
   "cell_type": "code",
   "execution_count": 29,
   "id": "9612c61f",
   "metadata": {},
   "outputs": [],
   "source": [
    "# Genetic algorithm search for optimization problem\n",
    "\n",
    "# Transfer bitstring of integer values to lag list\n",
    "def gene2lags(best):\n",
    "    table = pd.DataFrame(best,columns = ['lag'])\n",
    "    best_lag_list = []\n",
    "    for i in range(0,n_d):\n",
    "        if table.iloc[i][0] == 1:\n",
    "            best_lag_list.append(n_d - (i+1))\n",
    "    return best_lag_list\n",
    "\n",
    "# objective function\n",
    "def obj(x):\n",
    "#     lags = x\n",
    "    lags = gene2lags(x)\n",
    "    Q = generate_Q(Z,lags)\n",
    "    Y = Q @ Z\n",
    "#     result  =  n_d * J(Y)/sum(x)\n",
    "    result  =  J(Y)/(sum(x) * n_d )\n",
    "    return -result\n",
    "\n",
    "# selection\n",
    "def selection(pop, scores, k=3):\n",
    "    # first random selection\n",
    "    selection_ix = randint(len(pop))\n",
    "    for ix in randint(0, len(pop), k-1):\n",
    "        # check if better (e.g. perform a tournament)\n",
    "        if scores[ix] < scores[selection_ix]:\n",
    "            selection_ix = ix\n",
    "    return pop[selection_ix]\n",
    "\n",
    "# crossover two parents to create two children\n",
    "def crossover(p1, p2, r_cross):\n",
    "    # children are copies of parents by default\n",
    "    c1, c2 = p1.copy(), p2.copy()\n",
    "    # check for recombination\n",
    "    if rand() < r_cross:\n",
    "        # select crossover point that is not on the end of the string\n",
    "        pt = randint(1, len(p1)-2)\n",
    "        # perform crossover\n",
    "        c1 = p1[:pt] + p2[pt:]\n",
    "        c2 = p2[:pt] + p1[pt:]\n",
    "    return [c1, c2]\n",
    "\n",
    "# mutation operator\n",
    "def mutation(bitstring, r_mut):\n",
    "    for i in range(len(bitstring)):\n",
    "        # check for a mutation\n",
    "        if rand() < r_mut:\n",
    "            # flip the bit\n",
    "            bitstring[i] = 1 - bitstring[i]"
   ]
  },
  {
   "cell_type": "code",
   "execution_count": 20,
   "id": "196927e1",
   "metadata": {},
   "outputs": [],
   "source": [
    "# Genetic algorithm\n",
    "\n",
    "def genetic_algorithm(objective, n_bits, n_iter, n_pop, r_cross, r_mut):\n",
    "    # initial population of random bitstring\n",
    "    pop = [randint(0, 2, n_bits).tolist() for _ in range(n_pop)]\n",
    "    # keep track of best solution\n",
    "    best, best_eval = 0, objective(pop[0])\n",
    "    # enumerate generations\n",
    "    for gen in range(n_iter):\n",
    "#         print('Iteration: %d'%(gen + 1))\n",
    "        # evaluate all candidates in the population\n",
    "        scores = [objective(c) for c in pop]\n",
    "        # check for new best solution\n",
    "        for i in range(n_pop):\n",
    "            if scores[i] < best_eval:\n",
    "                best, best_eval = pop[i], scores[i]\n",
    "                # print(\">%d, new best f(%s) = %.3f\" % (gen,  pop[i], scores[i]))\n",
    "                print(\"iteration: %d, number of lags: %d, score: %.3f\" %(gen + 1, sum(pop[i]), scores[i]))\n",
    "        # select parents\n",
    "        selected = [selection(pop, scores) for _ in range(n_pop)]\n",
    "        # create the next generation\n",
    "        children = list()\n",
    "        for i in range(0, n_pop, 2):\n",
    "            # get selected parents in pairs\n",
    "            p1, p2 = selected[i], selected[i+1]\n",
    "            # crossover and mutation\n",
    "            for c in crossover(p1, p2, r_cross):\n",
    "                # mutation\n",
    "                mutation(c, r_mut)\n",
    "                # store for next generation\n",
    "                children.append(c)\n",
    "        # replace population\n",
    "        pop = children\n",
    "    return [best, best_eval]"
   ]
  },
  {
   "cell_type": "code",
   "execution_count": 21,
   "id": "c261532a",
   "metadata": {},
   "outputs": [],
   "source": [
    "# Parameter Setting\n",
    "\n",
    "# length of an individual/ maximum tau\n",
    "n_d = 40\n",
    "# number of generation\n",
    "n_g = 500\n",
    "# number of population\n",
    "n_p = 100\n",
    "# crossover prob\n",
    "p_c = 0.85\n",
    "# mutation prob\n",
    "p_m = 0.05\n",
    "\n",
    "# parameter for negentropy estimation\n",
    "a_1 = 1.5"
   ]
  },
  {
   "cell_type": "code",
   "execution_count": 30,
   "id": "6e42986f",
   "metadata": {
    "scrolled": false
   },
   "outputs": [
    {
     "name": "stdout",
     "output_type": "stream",
     "text": [
      "iteration: 1, number of lags: 21, score: -6126.649\n",
      "iteration: 1, number of lags: 26, score: -10631.797\n",
      "iteration: 1, number of lags: 15, score: -12550.275\n",
      "iteration: 1, number of lags: 21, score: -15275.078\n",
      "iteration: 1, number of lags: 15, score: -74867.791\n",
      "iteration: 1, number of lags: 13, score: -168357.960\n",
      "iteration: 6, number of lags: 14, score: -190725.233\n",
      "iteration: 10, number of lags: 15, score: -297096.199\n",
      "iteration: 10, number of lags: 13, score: -562417.356\n",
      "iteration: 55, number of lags: 12, score: -642443.549\n",
      "iteration: 61, number of lags: 9, score: -792825.663\n",
      "Done!\n",
      "f([0, 0, 1, 1, 0, 0, 0, 0, 0, 0, 0, 0, 0, 0, 1, 0, 1, 1, 1, 0, 1, 0, 0, 0, 0, 0, 0, 0, 0, 0, 0, 0, 0, 1, 0, 1, 0, 0, 0, 0]) = -792825.663022\n"
     ]
    }
   ],
   "source": [
    "best, score = genetic_algorithm(obj, n_d, n_g, n_p, p_c, p_m)\n",
    "print('Done!')\n",
    "print('f(%s) = %f' % (best, score))"
   ]
  },
  {
   "cell_type": "code",
   "execution_count": 43,
   "id": "d906b4ea",
   "metadata": {},
   "outputs": [
    {
     "name": "stdout",
     "output_type": "stream",
     "text": [
      "[0, 0, 0, 0, 0, 0, 1, 0, 0, 1, 0, 0, 1, 0, 0, 0, 0, 0, 1, 1, 0, 0, 0, 0, 0, 0, 0, 1, 0, 0, 0, 0, 0, 0, 0, 1, 0, 0, 0, 0]\n"
     ]
    },
    {
     "data": {
      "text/plain": [
       "7"
      ]
     },
     "execution_count": 43,
     "metadata": {},
     "output_type": "execute_result"
    }
   ],
   "source": [
    "# best1 = best\n",
    "# print(best1)\n",
    "# sum(best1)"
   ]
  },
  {
   "cell_type": "code",
   "execution_count": 45,
   "id": "8409567f",
   "metadata": {
    "scrolled": true
   },
   "outputs": [
    {
     "name": "stdout",
     "output_type": "stream",
     "text": [
      "[0, 0, 0, 0, 0, 0, 0, 0, 0, 0, 0, 0, 0, 0, 0, 0, 0, 0, 0, 0, 1, 0, 0, 0, 0, 0, 0, 0, 0, 0, 0, 0, 0, 0, 0, 1, 0, 0, 0, 0]\n"
     ]
    },
    {
     "data": {
      "text/plain": [
       "2"
      ]
     },
     "execution_count": 45,
     "metadata": {},
     "output_type": "execute_result"
    }
   ],
   "source": [
    "# best2 = best\n",
    "# print(best2)\n",
    "# sum(best2)"
   ]
  },
  {
   "cell_type": "code",
   "execution_count": 47,
   "id": "77f3a47f",
   "metadata": {
    "scrolled": true
   },
   "outputs": [
    {
     "name": "stdout",
     "output_type": "stream",
     "text": [
      "[0, 0, 0, 0, 0, 0, 0, 0, 0, 0, 0, 0, 1, 0, 0, 0, 0, 0, 1, 1, 0, 0, 0, 0, 0, 0, 0, 0, 1, 0, 0, 0, 0, 0, 0, 0, 0, 0, 0, 0]\n"
     ]
    },
    {
     "data": {
      "text/plain": [
       "4"
      ]
     },
     "execution_count": 47,
     "metadata": {},
     "output_type": "execute_result"
    }
   ],
   "source": [
    "# best3 = best\n",
    "# print(best3)\n",
    "# sum(best3)"
   ]
  },
  {
   "cell_type": "code",
   "execution_count": 49,
   "id": "39d61503",
   "metadata": {},
   "outputs": [
    {
     "name": "stdout",
     "output_type": "stream",
     "text": [
      "[0, 0, 0, 0, 0, 0, 0, 0, 0, 1, 1, 1, 1, 0, 1, 0, 0, 0, 1, 1, 0, 0, 0, 0, 0, 0, 0, 1, 1, 0, 0, 0, 0, 0, 0, 1, 0, 0, 0, 0]\n"
     ]
    },
    {
     "data": {
      "text/plain": [
       "10"
      ]
     },
     "execution_count": 49,
     "metadata": {},
     "output_type": "execute_result"
    }
   ],
   "source": [
    "# best4 = best\n",
    "# print(best4)\n",
    "# sum(best4)"
   ]
  },
  {
   "cell_type": "code",
   "execution_count": 51,
   "id": "f6cfc0c3",
   "metadata": {},
   "outputs": [
    {
     "name": "stdout",
     "output_type": "stream",
     "text": [
      "[0, 0, 0, 0, 0, 0, 0, 0, 0, 0, 0, 0, 0, 0, 0, 0, 0, 0, 0, 0, 0, 0, 0, 0, 0, 1, 0, 1, 0, 0, 1, 0, 0, 0, 0, 1, 0, 0, 0, 0]\n"
     ]
    },
    {
     "data": {
      "text/plain": [
       "4"
      ]
     },
     "execution_count": 51,
     "metadata": {},
     "output_type": "execute_result"
    }
   ],
   "source": [
    "# best5 = best\n",
    "# print(best5)\n",
    "# sum(best5)"
   ]
  },
  {
   "cell_type": "code",
   "execution_count": 31,
   "id": "c55d8727",
   "metadata": {},
   "outputs": [
    {
     "name": "stdout",
     "output_type": "stream",
     "text": [
      "[0, 0, 1, 1, 0, 0, 0, 0, 0, 0, 0, 0, 0, 0, 1, 0, 1, 1, 1, 0, 1, 0, 0, 0, 0, 0, 0, 0, 0, 0, 0, 0, 0, 1, 0, 1, 0, 0, 0, 0]\n"
     ]
    },
    {
     "data": {
      "text/plain": [
       "9"
      ]
     },
     "execution_count": 31,
     "metadata": {},
     "output_type": "execute_result"
    }
   ],
   "source": [
    "best6 = best\n",
    "print(best6)\n",
    "sum(best6)"
   ]
  },
  {
   "cell_type": "code",
   "execution_count": 32,
   "id": "016a1067",
   "metadata": {},
   "outputs": [
    {
     "name": "stdout",
     "output_type": "stream",
     "text": [
      "[37, 36, 25, 23, 22, 21, 19, 6, 4]\n"
     ]
    }
   ],
   "source": [
    "best_lag_list = gene2lags(best)\n",
    "print(best_lag_list)"
   ]
  },
  {
   "cell_type": "markdown",
   "id": "4abd244d",
   "metadata": {},
   "source": [
    "## Traning/Testing Data Set Preparation"
   ]
  },
  {
   "cell_type": "markdown",
   "id": "3251c0fe",
   "metadata": {},
   "source": [
    "Calculate the rotation matrix Q for training set\n",
    "Calculate indepdent component matrix Y for training set\n",
    "Using the lags trained from the previous step and  indepdent component matrix Y to construct the prediction model input"
   ]
  },
  {
   "cell_type": "code",
   "execution_count": 33,
   "id": "135128cd",
   "metadata": {},
   "outputs": [],
   "source": [
    "# function of preparing training set and testing set\n",
    "\n",
    "def training_preparation(Z,lags):\n",
    "    Q = generate_Q(Z,lags)\n",
    "    Y = Q @ Z\n",
    "    result = rearrange(Y.T,lags)\n",
    "    return Q,result\n",
    "\n",
    "def testing_preparation(data_testing,Q_training,lags):\n",
    "    \n",
    "    data_preprocessed = data_shift(data_testing,'Close')\n",
    "    mmscaler = MinMaxScaler()\n",
    "    X = mmscaler.fit_transform(data_preprocessed).T\n",
    "    \n",
    "    X_center = center(X)\n",
    "    Z,whiteM = whiten(X_center)\n",
    "    \n",
    "    Q = Q_training\n",
    "    Y = Q @ Z\n",
    "    result = rearrange(Y.T,lags)\n",
    "    return result"
   ]
  },
  {
   "cell_type": "code",
   "execution_count": 35,
   "id": "6901843d",
   "metadata": {},
   "outputs": [],
   "source": [
    "# Generate the input matrix according to the best lag list\n",
    "\n",
    "def rearrange(Y,lags):\n",
    "    row, col =  Y.shape\n",
    "    Y_re = np.empty(((row-n_d),0))\n",
    "    for i in lags:\n",
    "        Y_re = np.concatenate((Y_re, Y[(n_d-i):(row-i),0:(col-1)]), axis = 1)                   \n",
    "    Y_re = np.concatenate((Y_re, Y[n_d:,(col - 1):].reshape(row - n_d,1)), axis = 1)\n",
    "    return Y_re"
   ]
  },
  {
   "cell_type": "code",
   "execution_count": 36,
   "id": "a743352e",
   "metadata": {
    "scrolled": true
   },
   "outputs": [
    {
     "name": "stdout",
     "output_type": "stream",
     "text": [
      "[*********************100%***********************]  1 of 1 completed\n",
      "(1992, 46) (485, 46)\n"
     ]
    }
   ],
   "source": [
    "Q_training, Y_training = training_preparation(Z,best_lag_list)\n",
    "data_testing = yf.download(datasource,start = startdate_testing,end = enddate_testing)\n",
    "Y_testing = testing_preparation(data_testing,Q_training,best_lag_list)\n",
    "\n",
    "print(Y_training.shape, Y_testing.shape)"
   ]
  },
  {
   "cell_type": "code",
   "execution_count": 37,
   "id": "710c6ec7",
   "metadata": {},
   "outputs": [],
   "source": [
    "# prepare benchmark dataset\n",
    "\n",
    "from pathlib import Path\n",
    "\n",
    "mmscaler = MinMaxScaler()\n",
    "train_benchmark = pd.DataFrame(mmscaler.fit_transform(data_shift(data,'Close')))\n",
    "test_benchmark = pd.DataFrame(mmscaler.fit_transform(data_shift(data_testing,'Close')))\n",
    "benchmark_df = pd.concat([train_benchmark,test_benchmark])\n",
    "\n",
    "filepath = Path('C:/Users/82422/OneDrive/internship/Optimal_Lag/Data/Data_Benchmark.csv')\n",
    "filepath.parent.mkdir(parents=True, exist_ok=True)\n",
    "benchmark_df.to_csv(filepath)"
   ]
  },
  {
   "cell_type": "code",
   "execution_count": 38,
   "id": "af95f006",
   "metadata": {},
   "outputs": [],
   "source": [
    "# save training set and testing set as csv file\n",
    "\n",
    "training_df = pd.DataFrame(Y_training)\n",
    "testing_df = pd.DataFrame(Y_testing)\n",
    "Y_df = pd.concat([training_df,testing_df])\n",
    "\n",
    "\n",
    "filepath = Path('C:/Users/82422/OneDrive/internship/Optimal_Lag/Data/Data_Processed.csv')\n",
    "filepath.parent.mkdir(parents=True, exist_ok=True)  \n",
    "Y_df.to_csv(filepath)"
   ]
  },
  {
   "cell_type": "markdown",
   "id": "605caee8",
   "metadata": {},
   "source": [
    "## Prediction Model"
   ]
  },
  {
   "cell_type": "code",
   "execution_count": null,
   "id": "f377d754",
   "metadata": {},
   "outputs": [],
   "source": []
  },
  {
   "cell_type": "markdown",
   "id": "f72976e8",
   "metadata": {},
   "source": [
    "## Benchmark"
   ]
  },
  {
   "cell_type": "code",
   "execution_count": 46,
   "id": "c50a0140",
   "metadata": {},
   "outputs": [],
   "source": [
    "# In this part, we will use some statistical method to determine the lags of the training set\n",
    "\n",
    "from statsmodels.graphics.tsaplots import plot_acf, plot_pacf\n",
    "from statsmodels.tsa.arima_model import ARMA\n",
    "from statsmodels.tsa.stattools import adfuller\n"
   ]
  },
  {
   "cell_type": "code",
   "execution_count": 45,
   "id": "2e7ee6f5",
   "metadata": {},
   "outputs": [
    {
     "data": {
      "text/html": [
       "<div>\n",
       "<style scoped>\n",
       "    .dataframe tbody tr th:only-of-type {\n",
       "        vertical-align: middle;\n",
       "    }\n",
       "\n",
       "    .dataframe tbody tr th {\n",
       "        vertical-align: top;\n",
       "    }\n",
       "\n",
       "    .dataframe thead th {\n",
       "        text-align: right;\n",
       "    }\n",
       "</style>\n",
       "<table border=\"1\" class=\"dataframe\">\n",
       "  <thead>\n",
       "    <tr style=\"text-align: right;\">\n",
       "      <th></th>\n",
       "      <th>Open</th>\n",
       "      <th>High</th>\n",
       "      <th>Low</th>\n",
       "      <th>Close</th>\n",
       "      <th>Adj Close</th>\n",
       "      <th>Volume</th>\n",
       "    </tr>\n",
       "    <tr>\n",
       "      <th>Date</th>\n",
       "      <th></th>\n",
       "      <th></th>\n",
       "      <th></th>\n",
       "      <th></th>\n",
       "      <th></th>\n",
       "      <th></th>\n",
       "    </tr>\n",
       "  </thead>\n",
       "  <tbody>\n",
       "    <tr>\n",
       "      <th>2012-04-02</th>\n",
       "      <td>0.060922</td>\n",
       "      <td>0.064039</td>\n",
       "      <td>0.062851</td>\n",
       "      <td>0.065354</td>\n",
       "      <td>0.051436</td>\n",
       "      <td>0.269975</td>\n",
       "    </tr>\n",
       "    <tr>\n",
       "      <th>2012-04-03</th>\n",
       "      <td>0.065685</td>\n",
       "      <td>0.062470</td>\n",
       "      <td>0.063183</td>\n",
       "      <td>0.062595</td>\n",
       "      <td>0.049265</td>\n",
       "      <td>0.278324</td>\n",
       "    </tr>\n",
       "    <tr>\n",
       "      <th>2012-04-04</th>\n",
       "      <td>0.058922</td>\n",
       "      <td>0.055149</td>\n",
       "      <td>0.058001</td>\n",
       "      <td>0.055936</td>\n",
       "      <td>0.044024</td>\n",
       "      <td>0.260026</td>\n",
       "    </tr>\n",
       "    <tr>\n",
       "      <th>2012-04-05</th>\n",
       "      <td>0.054920</td>\n",
       "      <td>0.054483</td>\n",
       "      <td>0.057621</td>\n",
       "      <td>0.055603</td>\n",
       "      <td>0.043762</td>\n",
       "      <td>0.240607</td>\n",
       "    </tr>\n",
       "    <tr>\n",
       "      <th>2012-04-09</th>\n",
       "      <td>0.048490</td>\n",
       "      <td>0.052772</td>\n",
       "      <td>0.050870</td>\n",
       "      <td>0.048135</td>\n",
       "      <td>0.037885</td>\n",
       "      <td>0.220311</td>\n",
       "    </tr>\n",
       "    <tr>\n",
       "      <th>...</th>\n",
       "      <td>...</td>\n",
       "      <td>...</td>\n",
       "      <td>...</td>\n",
       "      <td>...</td>\n",
       "      <td>...</td>\n",
       "      <td>...</td>\n",
       "    </tr>\n",
       "    <tr>\n",
       "      <th>2020-04-24</th>\n",
       "      <td>0.728208</td>\n",
       "      <td>0.736712</td>\n",
       "      <td>0.719597</td>\n",
       "      <td>0.736634</td>\n",
       "      <td>0.765145</td>\n",
       "      <td>0.133053</td>\n",
       "    </tr>\n",
       "    <tr>\n",
       "      <th>2020-04-27</th>\n",
       "      <td>0.749119</td>\n",
       "      <td>0.758439</td>\n",
       "      <td>0.748693</td>\n",
       "      <td>0.756041</td>\n",
       "      <td>0.783092</td>\n",
       "      <td>0.118336</td>\n",
       "    </tr>\n",
       "    <tr>\n",
       "      <th>2020-04-28</th>\n",
       "      <td>0.777222</td>\n",
       "      <td>0.773319</td>\n",
       "      <td>0.752401</td>\n",
       "      <td>0.749762</td>\n",
       "      <td>0.777285</td>\n",
       "      <td>0.174547</td>\n",
       "    </tr>\n",
       "    <tr>\n",
       "      <th>2020-04-29</th>\n",
       "      <td>0.779651</td>\n",
       "      <td>0.789864</td>\n",
       "      <td>0.776219</td>\n",
       "      <td>0.785341</td>\n",
       "      <td>0.810188</td>\n",
       "      <td>0.202219</td>\n",
       "    </tr>\n",
       "    <tr>\n",
       "      <th>2020-04-30</th>\n",
       "      <td>0.780509</td>\n",
       "      <td>0.782448</td>\n",
       "      <td>0.767567</td>\n",
       "      <td>0.772355</td>\n",
       "      <td>0.798179</td>\n",
       "      <td>0.210754</td>\n",
       "    </tr>\n",
       "  </tbody>\n",
       "</table>\n",
       "<p>2033 rows × 6 columns</p>\n",
       "</div>"
      ],
      "text/plain": [
       "                Open      High       Low     Close  Adj Close    Volume\n",
       "Date                                                                   \n",
       "2012-04-02  0.060922  0.064039  0.062851  0.065354   0.051436  0.269975\n",
       "2012-04-03  0.065685  0.062470  0.063183  0.062595   0.049265  0.278324\n",
       "2012-04-04  0.058922  0.055149  0.058001  0.055936   0.044024  0.260026\n",
       "2012-04-05  0.054920  0.054483  0.057621  0.055603   0.043762  0.240607\n",
       "2012-04-09  0.048490  0.052772  0.050870  0.048135   0.037885  0.220311\n",
       "...              ...       ...       ...       ...        ...       ...\n",
       "2020-04-24  0.728208  0.736712  0.719597  0.736634   0.765145  0.133053\n",
       "2020-04-27  0.749119  0.758439  0.748693  0.756041   0.783092  0.118336\n",
       "2020-04-28  0.777222  0.773319  0.752401  0.749762   0.777285  0.174547\n",
       "2020-04-29  0.779651  0.789864  0.776219  0.785341   0.810188  0.202219\n",
       "2020-04-30  0.780509  0.782448  0.767567  0.772355   0.798179  0.210754\n",
       "\n",
       "[2033 rows x 6 columns]"
      ]
     },
     "execution_count": 45,
     "metadata": {},
     "output_type": "execute_result"
    }
   ],
   "source": [
    "data"
   ]
  },
  {
   "cell_type": "code",
   "execution_count": 47,
   "id": "8e8ddeca",
   "metadata": {},
   "outputs": [],
   "source": [
    "def perform_adf_test(series):\n",
    "    result = adfuller(series)\n",
    "    print('ADF Statistic: %f' % result[0])\n",
    "    print('p-value: %f' % result[1])"
   ]
  },
  {
   "cell_type": "code",
   "execution_count": 48,
   "id": "e62a079d",
   "metadata": {},
   "outputs": [],
   "source": [
    "series_close = data['Close']"
   ]
  },
  {
   "cell_type": "code",
   "execution_count": 50,
   "id": "223eb2b0",
   "metadata": {
    "scrolled": true
   },
   "outputs": [
    {
     "name": "stdout",
     "output_type": "stream",
     "text": [
      "ADF Statistic: -1.267879\n",
      "p-value: 0.643737\n"
     ]
    }
   ],
   "source": [
    "perform_adf_test(series_close)"
   ]
  },
  {
   "cell_type": "code",
   "execution_count": 55,
   "id": "e8a2d29e",
   "metadata": {},
   "outputs": [],
   "source": [
    "series_close_diff = series_close.diff().dropna()"
   ]
  },
  {
   "cell_type": "code",
   "execution_count": 56,
   "id": "96d87659",
   "metadata": {},
   "outputs": [
    {
     "data": {
      "text/plain": [
       "Date\n",
       "2012-04-03   -0.002759\n",
       "2012-04-04   -0.006659\n",
       "2012-04-05   -0.000333\n",
       "2012-04-09   -0.007468\n",
       "2012-04-10   -0.011035\n",
       "                ...   \n",
       "2020-04-24    0.018503\n",
       "2020-04-27    0.019406\n",
       "2020-04-28   -0.006278\n",
       "2020-04-29    0.035578\n",
       "2020-04-30   -0.012985\n",
       "Name: Close, Length: 2032, dtype: float64"
      ]
     },
     "execution_count": 56,
     "metadata": {},
     "output_type": "execute_result"
    }
   ],
   "source": [
    "series_close_diff"
   ]
  },
  {
   "cell_type": "code",
   "execution_count": 57,
   "id": "b7ee8409",
   "metadata": {},
   "outputs": [
    {
     "name": "stdout",
     "output_type": "stream",
     "text": [
      "ADF Statistic: -9.390480\n",
      "p-value: 0.000000\n"
     ]
    }
   ],
   "source": [
    "perform_adf_test(series_close_diff)"
   ]
  },
  {
   "cell_type": "code",
   "execution_count": 58,
   "id": "5c79a982",
   "metadata": {
    "scrolled": true
   },
   "outputs": [
    {
     "data": {
      "text/plain": [
       "[<matplotlib.lines.Line2D at 0x2bb5d0eb880>]"
      ]
     },
     "execution_count": 58,
     "metadata": {},
     "output_type": "execute_result"
    },
    {
     "data": {
      "image/png": "[encoded data removed]",
      "text/plain": [
       "<Figure size 432x288 with 1 Axes>"
      ]
     },
     "metadata": {
      "needs_background": "light"
     },
     "output_type": "display_data"
    }
   ],
   "source": [
    "plot.plot(series_close_diff)"
   ]
  },
  {
   "cell_type": "code",
   "execution_count": 106,
   "id": "654ba92f",
   "metadata": {},
   "outputs": [
    {
     "data": {
      "image/png": "[encoded data removed]",
      "text/plain": [
       "<Figure size 432x288 with 1 Axes>"
      ]
     },
     "execution_count": 106,
     "metadata": {},
     "output_type": "execute_result"
    },
    {
     "data": {
      "image/png": "[encoded data removed]",
      "text/plain": [
       "<Figure size 432x288 with 1 Axes>"
      ]
     },
     "metadata": {
      "needs_background": "light"
     },
     "output_type": "display_data"
    }
   ],
   "source": [
    "plot_acf(series_close_diff)"
   ]
  },
  {
   "cell_type": "code",
   "execution_count": 63,
   "id": "63fdbc63",
   "metadata": {
    "scrolled": true
   },
   "outputs": [
    {
     "data": {
      "image/png": "[encoded data removed]",
      "text/plain": [
       "<Figure size 432x288 with 1 Axes>"
      ]
     },
     "metadata": {
      "needs_background": "light"
     },
     "output_type": "display_data"
    }
   ],
   "source": [
    "plot_pacf(series_close_diff)\n",
    "plot.show()"
   ]
  },
  {
   "cell_type": "code",
   "execution_count": 59,
   "id": "0e783b13",
   "metadata": {},
   "outputs": [],
   "source": [
    "# Compare AR(1), AR(7), AR(9), AR(31)\n",
    "\n",
    "# plot.figure(figsize=(12,12))\n",
    "\n",
    "# ar_orders = [1, 7, 9, 31]\n",
    "# fitted_model_dict = {}\n",
    "\n",
    "# for idx, ar_order in enumerate(ar_orders):\n",
    "    \n",
    "#     #create AR(p) model\n",
    "#     ar_model = ARMA(series_close_diff, order=(ar_order,0))\n",
    "#     ar_model_fit = ar_model.fit()\n",
    "#     fitted_model_dict[ar_order] = ar_model_fit\n",
    "#     plot.subplot(4,1,idx+1)\n",
    "#     plot.plot(series_close_diff)\n",
    "#     plot.plot(ar_model_fit.fittedvalues)\n",
    "#     plot.title('AR(%s) Fit'%ar_order, fontsize=16)\n",
    "\n",
    "# plt.tight_layout()"
   ]
  }
 ],
 "metadata": {
  "kernelspec": {
   "display_name": "Python 3 (ipykernel)",
   "language": "python",
   "name": "python3"
  },
  "language_info": {
   "codemirror_mode": {
    "name": "ipython",
    "version": 3
   },
   "file_extension": ".py",
   "mimetype": "text/x-python",
   "name": "python",
   "nbconvert_exporter": "python",
   "pygments_lexer": "ipython3",
   "version": "3.10.4"
  }
 },
 "nbformat": 4,
 "nbformat_minor": 5
}
